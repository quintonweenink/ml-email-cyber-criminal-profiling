{
 "cells": [
  {
   "cell_type": "markdown",
   "metadata": {},
   "source": [
    "Only reading in one email for now"
   ]
  },
  {
   "cell_type": "code",
   "execution_count": 1,
   "metadata": {},
   "outputs": [],
   "source": [
    "enroncsv = \"../experiments/data/enron.csv\"\n",
    "metadataHeaders = '../experiments/data/metadataHeaders.csv'"
   ]
  },
  {
   "cell_type": "code",
   "execution_count": 2,
   "metadata": {},
   "outputs": [
    {
     "data": {
      "text/plain": [
       "['Filename',\n",
       " 'Person',\n",
       " 'Directory',\n",
       " 'Message-ID',\n",
       " 'Date',\n",
       " 'From',\n",
       " 'To',\n",
       " 'Subject',\n",
       " 'Cc',\n",
       " 'Time',\n",
       " 'Attendees',\n",
       " 'Re',\n",
       " 'Mime-Version',\n",
       " 'Content-Type',\n",
       " 'Content-Transfer-Encoding',\n",
       " 'Bcc',\n",
       " 'X-From',\n",
       " 'X-To',\n",
       " 'X-cc',\n",
       " 'X-bcc',\n",
       " 'X-Folder',\n",
       " 'X-Origin',\n",
       " 'X-FileName']"
      ]
     },
     "execution_count": 2,
     "metadata": {},
     "output_type": "execute_result"
    }
   ],
   "source": [
    "import pandas as pd\n",
    "\n",
    "columns = pd.read_csv(metadataHeaders, sep=',').columns.tolist()\n",
    "columns"
   ]
  },
  {
   "cell_type": "code",
   "execution_count": 3,
   "metadata": {
    "scrolled": false
   },
   "outputs": [
    {
     "name": "stdout",
     "output_type": "stream",
     "text": [
      "-- DONE --\n"
     ]
    }
   ],
   "source": [
    "df = pd.read_csv(enroncsv, names=columns, sep='|', low_memory=False)\n",
    "\n",
    "print(\"-- DONE --\")"
   ]
  },
  {
   "cell_type": "code",
   "execution_count": 4,
   "metadata": {},
   "outputs": [
    {
     "data": {
      "text/plain": [
       "<Figure size 640x480 with 1 Axes>"
      ]
     },
     "metadata": {},
     "output_type": "display_data"
    },
    {
     "data": {
      "text/plain": [
       "Filename                      0.000000\n",
       "Person                        0.000000\n",
       "Directory                     0.000000\n",
       "Message-ID                    0.000193\n",
       "Date                          0.000193\n",
       "From                          0.000193\n",
       "To                            4.222695\n",
       "Subject                       3.713003\n",
       "Cc                           75.279442\n",
       "Time                         99.999807\n",
       "Attendees                    99.994201\n",
       "Re                           99.998840\n",
       "Mime-Version                  0.011404\n",
       "Content-Type                  0.011404\n",
       "Content-Transfer-Encoding     0.010437\n",
       "Bcc                          75.284274\n",
       "X-From                        0.011211\n",
       "X-To                          1.770490\n",
       "X-cc                         75.084031\n",
       "X-bcc                        99.959410\n",
       "X-Folder                      0.012177\n",
       "X-Origin                      0.006765\n",
       "X-FileName                    0.820301\n",
       "dtype: float64"
      ]
     },
     "execution_count": 4,
     "metadata": {},
     "output_type": "execute_result"
    }
   ],
   "source": [
    "import matplotlib.pyplot as plt\n",
    "\n",
    "numberOfRows = len(df.index)\n",
    "missingData = (numberOfRows - df.count()) / numberOfRows * 100\n",
    "plot = missingData.plot(kind='bar')\n",
    "\n",
    "plt.show()\n",
    "missingData"
   ]
  },
  {
   "cell_type": "markdown",
   "metadata": {},
   "source": [
    "Create an array of attributes for a single person"
   ]
  },
  {
   "cell_type": "code",
   "execution_count": 5,
   "metadata": {},
   "outputs": [
    {
     "data": {
      "text/plain": [
       "6054"
      ]
     },
     "execution_count": 5,
     "metadata": {},
     "output_type": "execute_result"
    }
   ],
   "source": [
    "authSus = df.loc[df['Person'] == 'guzman-m']\n",
    "len(authSus)"
   ]
  },
  {
   "cell_type": "markdown",
   "metadata": {},
   "source": [
    "Display all the attributes to be used for authorship analysis"
   ]
  },
  {
   "cell_type": "code",
   "execution_count": 6,
   "metadata": {},
   "outputs": [
    {
     "data": {
      "text/plain": [
       "0             text/plain; charset=\"us-ascii\"\n",
       "1             text/plain; charset=\"us-ascii\"\n",
       "2             text/plain; charset=\"us-ascii\"\n",
       "3             text/plain; charset=\"us-ascii\"\n",
       "4       text/plain; charset=\"ANSI_X3.4-1968\"\n",
       "5             text/plain; charset=\"us-ascii\"\n",
       "6             text/plain; charset=\"us-ascii\"\n",
       "7             text/plain; charset=\"us-ascii\"\n",
       "8             text/plain; charset=\"us-ascii\"\n",
       "9       text/plain; charset=\"ANSI_X3.4-1968\"\n",
       "10            text/plain; charset=\"us-ascii\"\n",
       "11            text/plain; charset=\"us-ascii\"\n",
       "12            text/plain; charset=\"us-ascii\"\n",
       "13            text/plain; charset=\"us-ascii\"\n",
       "14            text/plain; charset=\"us-ascii\"\n",
       "15      text/plain; charset=\"ANSI_X3.4-1968\"\n",
       "16            text/plain; charset=\"us-ascii\"\n",
       "17            text/plain; charset=\"us-ascii\"\n",
       "18            text/plain; charset=\"us-ascii\"\n",
       "19            text/plain; charset=\"us-ascii\"\n",
       "20            text/plain; charset=\"us-ascii\"\n",
       "21            text/plain; charset=\"us-ascii\"\n",
       "22            text/plain; charset=\"us-ascii\"\n",
       "23            text/plain; charset=\"us-ascii\"\n",
       "24            text/plain; charset=\"us-ascii\"\n",
       "25            text/plain; charset=\"us-ascii\"\n",
       "26            text/plain; charset=\"us-ascii\"\n",
       "27            text/plain; charset=\"us-ascii\"\n",
       "28            text/plain; charset=\"us-ascii\"\n",
       "29            text/plain; charset=\"us-ascii\"\n",
       "                        ...                 \n",
       "6024          text/plain; charset=\"us-ascii\"\n",
       "6025          text/plain; charset=\"us-ascii\"\n",
       "6026          text/plain; charset=\"us-ascii\"\n",
       "6027          text/plain; charset=\"us-ascii\"\n",
       "6028          text/plain; charset=\"us-ascii\"\n",
       "6029          text/plain; charset=\"us-ascii\"\n",
       "6030          text/plain; charset=\"us-ascii\"\n",
       "6031          text/plain; charset=\"us-ascii\"\n",
       "6032          text/plain; charset=\"us-ascii\"\n",
       "6033          text/plain; charset=\"us-ascii\"\n",
       "6034          text/plain; charset=\"us-ascii\"\n",
       "6035          text/plain; charset=\"us-ascii\"\n",
       "6036          text/plain; charset=\"us-ascii\"\n",
       "6037          text/plain; charset=\"us-ascii\"\n",
       "6038          text/plain; charset=\"us-ascii\"\n",
       "6039          text/plain; charset=\"us-ascii\"\n",
       "6040          text/plain; charset=\"us-ascii\"\n",
       "6041          text/plain; charset=\"us-ascii\"\n",
       "6042          text/plain; charset=\"us-ascii\"\n",
       "6043          text/plain; charset=\"us-ascii\"\n",
       "6044          text/plain; charset=\"us-ascii\"\n",
       "6045          text/plain; charset=\"us-ascii\"\n",
       "6046          text/plain; charset=\"us-ascii\"\n",
       "6047          text/plain; charset=\"us-ascii\"\n",
       "6048          text/plain; charset=\"us-ascii\"\n",
       "6049          text/plain; charset=\"us-ascii\"\n",
       "6050          text/plain; charset=\"us-ascii\"\n",
       "6051          text/plain; charset=\"us-ascii\"\n",
       "6052          text/plain; charset=\"us-ascii\"\n",
       "6053          text/plain; charset=\"us-ascii\"\n",
       "Name: Content-Type, Length: 6054, dtype: object"
      ]
     },
     "execution_count": 6,
     "metadata": {},
     "output_type": "execute_result"
    }
   ],
   "source": [
    "authSus['Message-ID']\n",
    "authSus['Date']\n",
    "authSus['From']\n",
    "authSus['To']\n",
    "authSus['Bcc']\n",
    "authSus['Subject']\n",
    "authSus['Person']\n",
    "authSus['X-Origin']\n",
    "authSus['Content-Type']"
   ]
  },
  {
   "cell_type": "markdown",
   "metadata": {},
   "source": [
    "Using features and attributes for filtering"
   ]
  },
  {
   "cell_type": "code",
   "execution_count": 7,
   "metadata": {},
   "outputs": [
    {
     "data": {
      "text/plain": [
       "35495"
      ]
     },
     "execution_count": 7,
     "metadata": {},
     "output_type": "execute_result"
    }
   ],
   "source": [
    "susEmails = df.loc[df['Person'] != df['X-Origin'].str.lower()]\n",
    "len(susEmails)"
   ]
  },
  {
   "cell_type": "code",
   "execution_count": 8,
   "metadata": {},
   "outputs": [
    {
     "data": {
      "text/plain": [
       "6195            bass-e\n",
       "6485            bass-e\n",
       "11374           bass-e\n",
       "11993           bass-e\n",
       "12263           bass-e\n",
       "12521           bass-e\n",
       "16200       generation\n",
       "17655     rto_campaign\n",
       "18143      2002_budget\n",
       "18144      2002_budget\n",
       "29985       dasovich-j\n",
       "29986       dasovich-j\n",
       "29991       dasovich-j\n",
       "29992       dasovich-j\n",
       "29995       dasovich-j\n",
       "29998       dasovich-j\n",
       "30001       dasovich-j\n",
       "30002       dasovich-j\n",
       "30013       dasovich-j\n",
       "30023       dasovich-j\n",
       "30035       dasovich-j\n",
       "30051       dasovich-j\n",
       "30064       dasovich-j\n",
       "30086       dasovich-j\n",
       "30087       dasovich-j\n",
       "30093       dasovich-j\n",
       "30094       dasovich-j\n",
       "30098       dasovich-j\n",
       "30114       dasovich-j\n",
       "30122       dasovich-j\n",
       "              ...     \n",
       "506114             rac\n",
       "506115             rac\n",
       "506116             rac\n",
       "506117             rac\n",
       "506118             rac\n",
       "506119             rac\n",
       "506120             rac\n",
       "506121             rac\n",
       "506122             rac\n",
       "506123             rac\n",
       "506124             rac\n",
       "506125             rac\n",
       "506126             rac\n",
       "506127             rac\n",
       "506128             rac\n",
       "506129             rac\n",
       "512819             eim\n",
       "512820             eim\n",
       "512821             eim\n",
       "512822             eim\n",
       "512823             eim\n",
       "512824             eim\n",
       "512825             eim\n",
       "512826             eim\n",
       "512827             eim\n",
       "512828             eim\n",
       "512829             eim\n",
       "512830             eim\n",
       "512831             eim\n",
       "512832             eim\n",
       "Name: Person, Length: 31895, dtype: object"
      ]
     },
     "execution_count": 8,
     "metadata": {},
     "output_type": "execute_result"
    }
   ],
   "source": [
    "smallList = susEmails.loc[susEmails['Person'] != 'inbox']\n",
    "smallList = smallList.loc[smallList['Person'] != 'deleted_items']\n",
    "smallList = smallList.loc[smallList['Person'] != 'global']\n",
    "smallList = smallList.loc[smallList['Person'] != '2_trash']\n",
    "smallList = smallList.loc[smallList['Person'] != 'hr']\n",
    "smallList = smallList.loc[smallList['Person'] != 'egm']\n",
    "smallList = smallList.loc[smallList['Person'] != 'prc']\n",
    "smallList = smallList.loc[smallList['Person'] != 'deleted_items']\n",
    "smallList['Person']"
   ]
  },
  {
   "cell_type": "markdown",
   "metadata": {},
   "source": [
    "Emails with `Bcc` usage, that could possibly be spam-based"
   ]
  },
  {
   "cell_type": "code",
   "execution_count": 9,
   "metadata": {},
   "outputs": [
    {
     "data": {
      "text/plain": [
       "0         bert.meyers@enron.com, bill.williams.iii@enron...\n",
       "1                                        bill.iii@enron.com\n",
       "2         bert.meyers@enron.com, bill.williams.iii@enron...\n",
       "6         bert.meyers@enron.com, bill.williams.iii@enron...\n",
       "11        bert.meyers@enron.com, bill.williams.iii@enron...\n",
       "13        gfergus@brobeck.com, richard.sanders@enron.com...\n",
       "15        ben.pacewic@phs.com, eholm@aracnet.com, kss@rd...\n",
       "18        bert.meyers@enron.com, bill.williams.iii@enron...\n",
       "20        bert.meyers@enron.com, bill.williams.iii@enron...\n",
       "22        bert.meyers@enron.com, bill.williams.iii@enron...\n",
       "23                                 portland.shift@enron.com\n",
       "24        bert.meyers@enron.com, bill.williams.iii@enron...\n",
       "25        bert.meyers@enron.com, bill.williams.iii@enron...\n",
       "28             john.forney@enron.com, mark.guzman@enron.com\n",
       "29        bert.meyers@enron.com, bill.williams.iii@enron...\n",
       "30        dustin-sievers@hoffmancorp.com, leslievankleek...\n",
       "32        bert.meyers@enron.com, bill.williams.iii@enron...\n",
       "35        bert.meyers@enron.com, bill.williams.iii@enron...\n",
       "37        bert.meyers@enron.com, bill.williams.iii@enron...\n",
       "38        bert.meyers@enron.com, bill.williams.iii@enron...\n",
       "40        bert.meyers@enron.com, bill.williams.iii@enron...\n",
       "41        bert.meyers@enron.com, bill.williams.iii@enron...\n",
       "45        bert.meyers@enron.com, bill.williams.iii@enron...\n",
       "47        bert.meyers@enron.com, bill.williams.iii@enron...\n",
       "48        bert.meyers@enron.com, bill.williams.iii@enron...\n",
       "53        bert.meyers@enron.com, bill.williams.iii@enron...\n",
       "54        bert.meyers@enron.com, bill.williams.iii@enron...\n",
       "56                                 portland.shift@enron.com\n",
       "58        bert.meyers@enron.com, bill.williams.iii@enron...\n",
       "59        bert.meyers@enron.com, bill.williams.iii@enron...\n",
       "                                ...                        \n",
       "517322                                 sally.beck@enron.com\n",
       "517323    john.sherriff@enron.com, philippe.bibi@enron.c...\n",
       "517324                                 sally.beck@enron.com\n",
       "517325                                 sally.beck@enron.com\n",
       "517327    philippe.bibi@enron.com, sally.beck@enron.com,...\n",
       "517328    philippe.bibi@enron.com, sally.beck@enron.com,...\n",
       "517329    bernice.rodriguez@enron.com, samuel.schott@enr...\n",
       "517330    sally.beck@enron.com, peggy.alix@enron.com, in...\n",
       "517332    sally.beck@enron.com, brenda.herod@enron.com, ...\n",
       "517334    alexus.rhone@enron.com, avril.forster@enron.co...\n",
       "517336            inja.chun@enron.com, sally.beck@enron.com\n",
       "517337    chris.gaskill@enron.com, jennifer.fraser@enron...\n",
       "517338                                 sally.beck@enron.com\n",
       "517339        avril.forster@enron.com, sally.beck@enron.com\n",
       "517342       sally.beck@enron.com, mary.solmonson@enron.com\n",
       "517344    donna.lowry@enron.com, sherri.griffin@enron.co...\n",
       "517345      sally.beck@enron.com, michael.moscoso@enron.com\n",
       "517347                               shona.wilson@enron.com\n",
       "517348    araceli.romero@enron.com, maria.luna@enron.com...\n",
       "517350    araceli.romero@enron.com, maria.luna@enron.com...\n",
       "517351    araceli.romero@enron.com, maria.luna@enron.com...\n",
       "517352    araceli.romero@enron.com, maria.luna@enron.com...\n",
       "517354    araceli.romero@enron.com, maria.luna@enron.com...\n",
       "517356    kelly.tisman@enron.com, mike.perun@enron.com, ...\n",
       "517362    nancy.hernandez@enron.com, christy.lobusch@enr...\n",
       "517365         kelly.tisman@enron.com, sally.beck@enron.com\n",
       "517367      sally.beck@enron.com, bjorn.hagelmann@enron.com\n",
       "517368          carol.howes@enron.com, sally.beck@enron.com\n",
       "517369    sally.beck@enron.com, bjorn.hagelmann@enron.co...\n",
       "517370      sally.beck@enron.com, bjorn.hagelmann@enron.com\n",
       "Name: Bcc, Length: 127872, dtype: object"
      ]
     },
     "execution_count": 9,
     "metadata": {},
     "output_type": "execute_result"
    }
   ],
   "source": [
    "spamAnalysis = df['Bcc'].dropna()\n",
    "spamAnalysis"
   ]
  },
  {
   "cell_type": "markdown",
   "metadata": {},
   "source": [
    "Suspicious emails that are missing vital `To` information in the headings"
   ]
  },
  {
   "cell_type": "code",
   "execution_count": 10,
   "metadata": {},
   "outputs": [
    {
     "data": {
      "text/plain": [
       "971                                            working hard\n",
       "1805                                               schedule\n",
       "1918      Re: Reminder for Excel Charting and Organizing...\n",
       "2076      Re: Reminder for Excel Charting and Organizing...\n",
       "2143                          Lunch meeting with Tim Beldon\n",
       "2535                                               schedule\n",
       "2605                                      Brown bag meeting\n",
       "2760      - Inventory Collected from CN=Mark Guzman/OU=P...\n",
       "3105                                          Group Meeting\n",
       "3123                             Mike Swerzbin out all day.\n",
       "3245                                           working hard\n",
       "3278                                        Weather Meeting\n",
       "3324                                Brown Bag Lunch Meeting\n",
       "4088      - Inventory Collected from CN=Mark Guzman/OU=P...\n",
       "4233                                          Group Meeting\n",
       "4459                                               schedule\n",
       "4469                                        Weather Meeting\n",
       "4634                                      Brown bag meeting\n",
       "4680      - Inventory Collected from CN=Mark Guzman/OU=P...\n",
       "5040                             Mike Swerzbin out all day.\n",
       "5465                          Lunch meeting with Tim Beldon\n",
       "5486      - Inventory Collected from CN=Mark Guzman/OU=P...\n",
       "5695                                Brown Bag Lunch Meeting\n",
       "5794                                           working hard\n",
       "6091          Commissioner.COM E-Reports for Big E 11/30/00\n",
       "6095      Commissioner.COM E-Reports for The Perfect Lea...\n",
       "6122                               News In Bloom Newsletter\n",
       "6126           Commissioner.COM E-Reports for Y2KG 12/12/00\n",
       "6144      Commissioner.COM E-Reports for The Perfect Lea...\n",
       "6163           Commissioner.COM E-Reports for Y2KG 11/29/00\n",
       "                                ...                        \n",
       "515076                               Doorstep - Settlements\n",
       "515149             Steering Committee Meeting - 07 May 2000\n",
       "515254                               Sydney Process Changes\n",
       "515294                               Organizational Changes\n",
       "515426                        Important: GBN Meeting Change\n",
       "515562                      Enron Japan Trading Settlements\n",
       "515568                                          Action plan\n",
       "515645                                     Doorstep Meeting\n",
       "515676                      Fwd: GBN Meeting, 09 April 2000\n",
       "515689               Reporting Line for Sydney Risk Officer\n",
       "515782                                      Congratulations\n",
       "515882                                    Moema deal ticket\n",
       "515987                    Re: Risk Position - Eugenio Perez\n",
       "516024                                   ENA Survey Results\n",
       "516188                        ENA North America Orientation\n",
       "516247                         Global Accounting Promotions\n",
       "516264                Re: Global Risk Management Operations\n",
       "516283                Re: Global Risk Management Operations\n",
       "516302                                      Congratulations\n",
       "516330             Steering Committee Meeting - 07 May 2000\n",
       "516332                      Fwd: GBN Meeting, 09 April 2000\n",
       "516335                        Important: GBN Meeting Change\n",
       "516336                           GBN Meeting, 09 April 2000\n",
       "516344                       Associate & Analyst PRC Update\n",
       "516391                                      pre-PRC meeting\n",
       "516397                                              PRC Rep\n",
       "516401                       Associate & Analyst PRC Update\n",
       "516527                                        LNG Contracts\n",
       "516782                                     Doorstep Meeting\n",
       "516806                               Doorstep - Settlements\n",
       "Name: Subject, Length: 21847, dtype: object"
      ]
     },
     "execution_count": 10,
     "metadata": {},
     "output_type": "execute_result"
    }
   ],
   "source": [
    "missingTo = df.loc[df['To'].isnull()]\n",
    "missingTo['Subject']"
   ]
  },
  {
   "cell_type": "markdown",
   "metadata": {},
   "source": [
    "Ways from can be used to trail information"
   ]
  },
  {
   "cell_type": "code",
   "execution_count": 11,
   "metadata": {},
   "outputs": [
    {
     "data": {
      "text/html": [
       "<div>\n",
       "<style scoped>\n",
       "    .dataframe tbody tr th:only-of-type {\n",
       "        vertical-align: middle;\n",
       "    }\n",
       "\n",
       "    .dataframe tbody tr th {\n",
       "        vertical-align: top;\n",
       "    }\n",
       "\n",
       "    .dataframe thead th {\n",
       "        text-align: right;\n",
       "    }\n",
       "</style>\n",
       "<table border=\"1\" class=\"dataframe\">\n",
       "  <thead>\n",
       "    <tr style=\"text-align: right;\">\n",
       "      <th></th>\n",
       "      <th>Filename</th>\n",
       "      <th>Person</th>\n",
       "      <th>Directory</th>\n",
       "      <th>Message-ID</th>\n",
       "      <th>Date</th>\n",
       "      <th>From</th>\n",
       "      <th>To</th>\n",
       "      <th>Subject</th>\n",
       "      <th>Cc</th>\n",
       "      <th>Time</th>\n",
       "      <th>...</th>\n",
       "      <th>Content-Type</th>\n",
       "      <th>Content-Transfer-Encoding</th>\n",
       "      <th>Bcc</th>\n",
       "      <th>X-From</th>\n",
       "      <th>X-To</th>\n",
       "      <th>X-cc</th>\n",
       "      <th>X-bcc</th>\n",
       "      <th>X-Folder</th>\n",
       "      <th>X-Origin</th>\n",
       "      <th>X-FileName</th>\n",
       "    </tr>\n",
       "  </thead>\n",
       "  <tbody>\n",
       "    <tr>\n",
       "      <th>137509</th>\n",
       "      <td>.DS_Store</td>\n",
       "      <td>maildir</td>\n",
       "      <td>kuykendall-t</td>\n",
       "      <td>NaN</td>\n",
       "      <td>NaN</td>\n",
       "      <td>NaN</td>\n",
       "      <td>NaN</td>\n",
       "      <td>NaN</td>\n",
       "      <td>NaN</td>\n",
       "      <td>NaN</td>\n",
       "      <td>...</td>\n",
       "      <td>NaN</td>\n",
       "      <td>NaN</td>\n",
       "      <td>NaN</td>\n",
       "      <td>NaN</td>\n",
       "      <td>NaN</td>\n",
       "      <td>NaN</td>\n",
       "      <td>NaN</td>\n",
       "      <td>NaN</td>\n",
       "      <td>NaN</td>\n",
       "      <td>NaN</td>\n",
       "    </tr>\n",
       "  </tbody>\n",
       "</table>\n",
       "<p>1 rows × 23 columns</p>\n",
       "</div>"
      ],
      "text/plain": [
       "         Filename   Person     Directory Message-ID Date From   To Subject  \\\n",
       "137509  .DS_Store  maildir  kuykendall-t        NaN  NaN  NaN  NaN     NaN   \n",
       "\n",
       "         Cc Time    ...     Content-Type Content-Transfer-Encoding  Bcc  \\\n",
       "137509  NaN  NaN    ...              NaN                       NaN  NaN   \n",
       "\n",
       "       X-From X-To X-cc X-bcc X-Folder X-Origin X-FileName  \n",
       "137509    NaN  NaN  NaN   NaN      NaN      NaN        NaN  \n",
       "\n",
       "[1 rows x 23 columns]"
      ]
     },
     "execution_count": 11,
     "metadata": {},
     "output_type": "execute_result"
    }
   ],
   "source": [
    "fromfeature = df.loc[df['From'].isnull()]\n",
    "fromfeature"
   ]
  },
  {
   "cell_type": "markdown",
   "metadata": {},
   "source": [
    "Checking for non-existent `Message-ID`"
   ]
  },
  {
   "cell_type": "code",
   "execution_count": 12,
   "metadata": {},
   "outputs": [
    {
     "data": {
      "text/plain": [
       "1"
      ]
     },
     "execution_count": 12,
     "metadata": {},
     "output_type": "execute_result"
    }
   ],
   "source": [
    "nullID = df.loc[df['Message-ID'].isnull()]\n",
    "len(nullID)"
   ]
  },
  {
   "cell_type": "markdown",
   "metadata": {},
   "source": [
    "Checking `Content-Type` for deviations from established typs or null values"
   ]
  },
  {
   "cell_type": "code",
   "execution_count": 14,
   "metadata": {},
   "outputs": [
    {
     "data": {
      "text/plain": [
       "59"
      ]
     },
     "execution_count": 14,
     "metadata": {},
     "output_type": "execute_result"
    }
   ],
   "source": [
    "nullCt = df.loc[df['Content-Type'].isnull()]\n",
    "len(nullCt)"
   ]
  },
  {
   "cell_type": "code",
   "execution_count": 15,
   "metadata": {},
   "outputs": [
    {
     "data": {
      "text/plain": [
       "6195      NaN\n",
       "6485      NaN\n",
       "11374     NaN\n",
       "11993     NaN\n",
       "12263     NaN\n",
       "12521     NaN\n",
       "36528     NaN\n",
       "55226     NaN\n",
       "67655     NaN\n",
       "86634     NaN\n",
       "87822     NaN\n",
       "87834     NaN\n",
       "119359    NaN\n",
       "119379    NaN\n",
       "119457    NaN\n",
       "119542    NaN\n",
       "120638    NaN\n",
       "120900    NaN\n",
       "132799    NaN\n",
       "132802    NaN\n",
       "132803    NaN\n",
       "132805    NaN\n",
       "132808    NaN\n",
       "137509    NaN\n",
       "137546    NaN\n",
       "150921    NaN\n",
       "151419    NaN\n",
       "151826    NaN\n",
       "151830    NaN\n",
       "151840    NaN\n",
       "171844    NaN\n",
       "173814    NaN\n",
       "221553    NaN\n",
       "221677    NaN\n",
       "237625    NaN\n",
       "245153    NaN\n",
       "248782    NaN\n",
       "277525    NaN\n",
       "277537    NaN\n",
       "289019    NaN\n",
       "289047    NaN\n",
       "289893    NaN\n",
       "289965    NaN\n",
       "290167    NaN\n",
       "297861    NaN\n",
       "298427    NaN\n",
       "298892    NaN\n",
       "300186    NaN\n",
       "387624    NaN\n",
       "391522    NaN\n",
       "394086    NaN\n",
       "399882    NaN\n",
       "402112    NaN\n",
       "481334    NaN\n",
       "481351    NaN\n",
       "481366    NaN\n",
       "481527    NaN\n",
       "481532    NaN\n",
       "481544    NaN\n",
       "Name: Content-Type, dtype: object"
      ]
     },
     "execution_count": 15,
     "metadata": {},
     "output_type": "execute_result"
    }
   ],
   "source": [
    "aveType = df.loc[df['Content-Type'] != 'text/plain; charset=\"us-ascii\"']\n",
    "aveType = aveType.loc[aveType['Content-Type'] != 'text/plain; charset=\"ANSI_X3.4-1968\"']\n",
    "aveType['Content-Type']"
   ]
  },
  {
   "cell_type": "code",
   "execution_count": null,
   "metadata": {},
   "outputs": [],
   "source": []
  }
 ],
 "metadata": {
  "kernelspec": {
   "display_name": "Python 3",
   "language": "python",
   "name": "python3"
  },
  "language_info": {
   "codemirror_mode": {
    "name": "ipython",
    "version": 3
   },
   "file_extension": ".py",
   "mimetype": "text/x-python",
   "name": "python",
   "nbconvert_exporter": "python",
   "pygments_lexer": "ipython3",
   "version": "3.5.2"
  }
 },
 "nbformat": 4,
 "nbformat_minor": 1
}
