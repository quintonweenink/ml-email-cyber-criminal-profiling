{
 "cells": [
  {
   "cell_type": "markdown",
   "metadata": {},
   "source": [
    "Only reading in one email for now"
   ]
  },
  {
   "cell_type": "code",
   "execution_count": 1,
   "metadata": {},
   "outputs": [],
   "source": [
    "enroncsv = \"enron.csv\"\n",
    "metadataHeaders = 'data/metadataHeaders.csv'"
   ]
  },
  {
   "cell_type": "code",
   "execution_count": 2,
   "metadata": {},
   "outputs": [
    {
     "data": {
      "text/plain": [
       "['Filename',\n",
       " 'Person',\n",
       " 'Directory',\n",
       " 'Message-ID',\n",
       " 'Date',\n",
       " 'From',\n",
       " 'To',\n",
       " 'Subject',\n",
       " 'Cc',\n",
       " 'Time',\n",
       " 'Attendees',\n",
       " 'Re',\n",
       " 'Mime-Version',\n",
       " 'Content-Type',\n",
       " 'Content-Transfer-Encoding',\n",
       " 'Bcc',\n",
       " 'X-From',\n",
       " 'X-To',\n",
       " 'X-cc',\n",
       " 'X-bcc',\n",
       " 'X-Folder',\n",
       " 'X-Origin',\n",
       " 'X-FileName']"
      ]
     },
     "execution_count": 2,
     "metadata": {},
     "output_type": "execute_result"
    }
   ],
   "source": [
    "import pandas as pd\n",
    "\n",
    "columns = pd.read_csv(metadataHeaders, sep=',').columns.tolist()\n",
    "columns"
   ]
  },
  {
   "cell_type": "code",
   "execution_count": 3,
   "metadata": {
    "scrolled": false
   },
   "outputs": [
    {
     "name": "stdout",
     "output_type": "stream",
     "text": [
      "-- DONE --\n"
     ]
    }
   ],
   "source": [
    "df = pd.read_csv(enroncsv, names=columns, sep='|', low_memory=False)\n",
    "\n",
    "print(\"-- DONE --\")"
   ]
  },
  {
   "cell_type": "code",
   "execution_count": 5,
   "metadata": {},
   "outputs": [
    {
     "data": {
      "image/png": "[encoded data removed]",
      "text/plain": [
       "<Figure size 432x288 with 1 Axes>"
      ]
     },
     "metadata": {},
     "output_type": "display_data"
    },
    {
     "data": {
      "text/plain": [
       "Filename                      0.000000\n",
       "Person                        0.000000\n",
       "Directory                     0.000000\n",
       "Message-ID                    0.000387\n",
       "Date                          0.000387\n",
       "From                          0.000387\n",
       "To                            4.222880\n",
       "Subject                       3.713189\n",
       "Cc                           75.279489\n",
       "Time                         99.999807\n",
       "Attendees                    99.994201\n",
       "Re                           99.998840\n",
       "Mime-Version                  0.011597\n",
       "Content-Type                  0.011597\n",
       "Content-Transfer-Encoding     0.010631\n",
       "Bcc                          75.284322\n",
       "X-From                        0.011404\n",
       "X-To                          1.770680\n",
       "X-cc                         75.084079\n",
       "X-bcc                        99.959410\n",
       "X-Folder                      0.012370\n",
       "X-Origin                      0.006958\n",
       "X-FileName                    0.820493\n",
       "dtype: float64"
      ]
     },
     "execution_count": 5,
     "metadata": {},
     "output_type": "execute_result"
    }
   ],
   "source": [
    "import matplotlib.pyplot as plt\n",
    "\n",
    "numberOfRows = len(df.index)\n",
    "missingData = (numberOfRows - df.count()) / numberOfRows * 100\n",
    "plot = missingData.plot(kind='bar')\n",
    "\n",
    "plt.show()\n",
    "missingData"
   ]
  },
  {
   "cell_type": "markdown",
   "metadata": {},
   "source": [
    "Create an array of attributes for a single person"
   ]
  },
  {
   "cell_type": "code",
   "execution_count": 6,
   "metadata": {},
   "outputs": [
    {
     "data": {
      "text/plain": [
       "6054"
      ]
     },
     "execution_count": 6,
     "metadata": {},
     "output_type": "execute_result"
    }
   ],
   "source": [
    "authSus = df.loc[df['Person'] == 'guzman-m']\n",
    "len(authSus)"
   ]
  },
  {
   "cell_type": "markdown",
   "metadata": {},
   "source": [
    "Display all the attributes to be used for authorship analysis"
   ]
  },
  {
   "cell_type": "code",
   "execution_count": 7,
   "metadata": {},
   "outputs": [
    {
     "data": {
      "text/plain": [
       "1             text/plain; charset=\"us-ascii\"\n",
       "2             text/plain; charset=\"us-ascii\"\n",
       "3             text/plain; charset=\"us-ascii\"\n",
       "4             text/plain; charset=\"us-ascii\"\n",
       "5       text/plain; charset=\"ANSI_X3.4-1968\"\n",
       "6             text/plain; charset=\"us-ascii\"\n",
       "7             text/plain; charset=\"us-ascii\"\n",
       "8             text/plain; charset=\"us-ascii\"\n",
       "9             text/plain; charset=\"us-ascii\"\n",
       "10      text/plain; charset=\"ANSI_X3.4-1968\"\n",
       "11            text/plain; charset=\"us-ascii\"\n",
       "12            text/plain; charset=\"us-ascii\"\n",
       "13            text/plain; charset=\"us-ascii\"\n",
       "14            text/plain; charset=\"us-ascii\"\n",
       "15            text/plain; charset=\"us-ascii\"\n",
       "16      text/plain; charset=\"ANSI_X3.4-1968\"\n",
       "17            text/plain; charset=\"us-ascii\"\n",
       "18            text/plain; charset=\"us-ascii\"\n",
       "19            text/plain; charset=\"us-ascii\"\n",
       "20            text/plain; charset=\"us-ascii\"\n",
       "21            text/plain; charset=\"us-ascii\"\n",
       "22            text/plain; charset=\"us-ascii\"\n",
       "23            text/plain; charset=\"us-ascii\"\n",
       "24            text/plain; charset=\"us-ascii\"\n",
       "25            text/plain; charset=\"us-ascii\"\n",
       "26            text/plain; charset=\"us-ascii\"\n",
       "27            text/plain; charset=\"us-ascii\"\n",
       "28            text/plain; charset=\"us-ascii\"\n",
       "29            text/plain; charset=\"us-ascii\"\n",
       "30            text/plain; charset=\"us-ascii\"\n",
       "                        ...                 \n",
       "6025          text/plain; charset=\"us-ascii\"\n",
       "6026          text/plain; charset=\"us-ascii\"\n",
       "6027          text/plain; charset=\"us-ascii\"\n",
       "6028          text/plain; charset=\"us-ascii\"\n",
       "6029          text/plain; charset=\"us-ascii\"\n",
       "6030          text/plain; charset=\"us-ascii\"\n",
       "6031          text/plain; charset=\"us-ascii\"\n",
       "6032          text/plain; charset=\"us-ascii\"\n",
       "6033          text/plain; charset=\"us-ascii\"\n",
       "6034          text/plain; charset=\"us-ascii\"\n",
       "6035          text/plain; charset=\"us-ascii\"\n",
       "6036          text/plain; charset=\"us-ascii\"\n",
       "6037          text/plain; charset=\"us-ascii\"\n",
       "6038          text/plain; charset=\"us-ascii\"\n",
       "6039          text/plain; charset=\"us-ascii\"\n",
       "6040          text/plain; charset=\"us-ascii\"\n",
       "6041          text/plain; charset=\"us-ascii\"\n",
       "6042          text/plain; charset=\"us-ascii\"\n",
       "6043          text/plain; charset=\"us-ascii\"\n",
       "6044          text/plain; charset=\"us-ascii\"\n",
       "6045          text/plain; charset=\"us-ascii\"\n",
       "6046          text/plain; charset=\"us-ascii\"\n",
       "6047          text/plain; charset=\"us-ascii\"\n",
       "6048          text/plain; charset=\"us-ascii\"\n",
       "6049          text/plain; charset=\"us-ascii\"\n",
       "6050          text/plain; charset=\"us-ascii\"\n",
       "6051          text/plain; charset=\"us-ascii\"\n",
       "6052          text/plain; charset=\"us-ascii\"\n",
       "6053          text/plain; charset=\"us-ascii\"\n",
       "6054          text/plain; charset=\"us-ascii\"\n",
       "Name: Content-Type, Length: 6054, dtype: object"
      ]
     },
     "execution_count": 7,
     "metadata": {},
     "output_type": "execute_result"
    }
   ],
   "source": [
    "authSus['Message-ID']\n",
    "authSus['Date']\n",
    "authSus['From']\n",
    "authSus['To']\n",
    "authSus['Bcc']\n",
    "authSus['Subject']\n",
    "authSus['Person']\n",
    "authSus['X-Origin']\n",
    "authSus['Content-Type']"
   ]
  },
  {
   "cell_type": "markdown",
   "metadata": {},
   "source": [
    "Using features and attributes for filtering"
   ]
  },
  {
   "cell_type": "code",
   "execution_count": 8,
   "metadata": {},
   "outputs": [
    {
     "data": {
      "text/plain": [
       "35496"
      ]
     },
     "execution_count": 8,
     "metadata": {},
     "output_type": "execute_result"
    }
   ],
   "source": [
    "susEmails = df.loc[df['Person'] != df['X-Origin'].str.lower()]\n",
    "len(susEmails)"
   ]
  },
  {
   "cell_type": "code",
   "execution_count": 9,
   "metadata": {},
   "outputs": [
    {
     "data": {
      "text/plain": [
       "0              maildir\n",
       "6196            bass-e\n",
       "6486            bass-e\n",
       "11375           bass-e\n",
       "11994           bass-e\n",
       "12264           bass-e\n",
       "12522           bass-e\n",
       "16201       generation\n",
       "17656     rto_campaign\n",
       "18144      2002_budget\n",
       "18145      2002_budget\n",
       "29986       dasovich-j\n",
       "29987       dasovich-j\n",
       "29992       dasovich-j\n",
       "29993       dasovich-j\n",
       "29996       dasovich-j\n",
       "29999       dasovich-j\n",
       "30002       dasovich-j\n",
       "30003       dasovich-j\n",
       "30014       dasovich-j\n",
       "30024       dasovich-j\n",
       "30036       dasovich-j\n",
       "30052       dasovich-j\n",
       "30065       dasovich-j\n",
       "30087       dasovich-j\n",
       "30088       dasovich-j\n",
       "30094       dasovich-j\n",
       "30095       dasovich-j\n",
       "30099       dasovich-j\n",
       "30115       dasovich-j\n",
       "              ...     \n",
       "506115             rac\n",
       "506116             rac\n",
       "506117             rac\n",
       "506118             rac\n",
       "506119             rac\n",
       "506120             rac\n",
       "506121             rac\n",
       "506122             rac\n",
       "506123             rac\n",
       "506124             rac\n",
       "506125             rac\n",
       "506126             rac\n",
       "506127             rac\n",
       "506128             rac\n",
       "506129             rac\n",
       "506130             rac\n",
       "512820             eim\n",
       "512821             eim\n",
       "512822             eim\n",
       "512823             eim\n",
       "512824             eim\n",
       "512825             eim\n",
       "512826             eim\n",
       "512827             eim\n",
       "512828             eim\n",
       "512829             eim\n",
       "512830             eim\n",
       "512831             eim\n",
       "512832             eim\n",
       "512833             eim\n",
       "Name: Person, Length: 31896, dtype: object"
      ]
     },
     "execution_count": 9,
     "metadata": {},
     "output_type": "execute_result"
    }
   ],
   "source": [
    "smallList = susEmails.loc[susEmails['Person'] != 'inbox']\n",
    "smallList = smallList.loc[smallList['Person'] != 'deleted_items']\n",
    "smallList = smallList.loc[smallList['Person'] != 'global']\n",
    "smallList = smallList.loc[smallList['Person'] != '2_trash']\n",
    "smallList = smallList.loc[smallList['Person'] != 'hr']\n",
    "smallList = smallList.loc[smallList['Person'] != 'egm']\n",
    "smallList = smallList.loc[smallList['Person'] != 'prc']\n",
    "smallList = smallList.loc[smallList['Person'] != 'deleted_items']\n",
    "smallList['Person']"
   ]
  },
  {
   "cell_type": "markdown",
   "metadata": {},
   "source": [
    "Emails with `Bcc` usage, that could possibly be spam-based"
   ]
  },
  {
   "cell_type": "code",
   "execution_count": 10,
   "metadata": {},
   "outputs": [
    {
     "data": {
      "text/plain": [
       "1         bert.meyers@enron.com, bill.williams.iii@enron...\n",
       "2                                        bill.iii@enron.com\n",
       "3         bert.meyers@enron.com, bill.williams.iii@enron...\n",
       "7         bert.meyers@enron.com, bill.williams.iii@enron...\n",
       "12        bert.meyers@enron.com, bill.williams.iii@enron...\n",
       "14        gfergus@brobeck.com, richard.sanders@enron.com...\n",
       "16        ben.pacewic@phs.com, eholm@aracnet.com, kss@rd...\n",
       "19        bert.meyers@enron.com, bill.williams.iii@enron...\n",
       "21        bert.meyers@enron.com, bill.williams.iii@enron...\n",
       "23        bert.meyers@enron.com, bill.williams.iii@enron...\n",
       "24                                 portland.shift@enron.com\n",
       "25        bert.meyers@enron.com, bill.williams.iii@enron...\n",
       "26        bert.meyers@enron.com, bill.williams.iii@enron...\n",
       "29             john.forney@enron.com, mark.guzman@enron.com\n",
       "30        bert.meyers@enron.com, bill.williams.iii@enron...\n",
       "31        dustin-sievers@hoffmancorp.com, leslievankleek...\n",
       "33        bert.meyers@enron.com, bill.williams.iii@enron...\n",
       "36        bert.meyers@enron.com, bill.williams.iii@enron...\n",
       "38        bert.meyers@enron.com, bill.williams.iii@enron...\n",
       "39        bert.meyers@enron.com, bill.williams.iii@enron...\n",
       "41        bert.meyers@enron.com, bill.williams.iii@enron...\n",
       "42        bert.meyers@enron.com, bill.williams.iii@enron...\n",
       "46        bert.meyers@enron.com, bill.williams.iii@enron...\n",
       "48        bert.meyers@enron.com, bill.williams.iii@enron...\n",
       "49        bert.meyers@enron.com, bill.williams.iii@enron...\n",
       "54        bert.meyers@enron.com, bill.williams.iii@enron...\n",
       "55        bert.meyers@enron.com, bill.williams.iii@enron...\n",
       "57                                 portland.shift@enron.com\n",
       "59        bert.meyers@enron.com, bill.williams.iii@enron...\n",
       "60        bert.meyers@enron.com, bill.williams.iii@enron...\n",
       "                                ...                        \n",
       "517323                                 sally.beck@enron.com\n",
       "517324    john.sherriff@enron.com, philippe.bibi@enron.c...\n",
       "517325                                 sally.beck@enron.com\n",
       "517326                                 sally.beck@enron.com\n",
       "517328    philippe.bibi@enron.com, sally.beck@enron.com,...\n",
       "517329    philippe.bibi@enron.com, sally.beck@enron.com,...\n",
       "517330    bernice.rodriguez@enron.com, samuel.schott@enr...\n",
       "517331    sally.beck@enron.com, peggy.alix@enron.com, in...\n",
       "517333    sally.beck@enron.com, brenda.herod@enron.com, ...\n",
       "517335    alexus.rhone@enron.com, avril.forster@enron.co...\n",
       "517337            inja.chun@enron.com, sally.beck@enron.com\n",
       "517338    chris.gaskill@enron.com, jennifer.fraser@enron...\n",
       "517339                                 sally.beck@enron.com\n",
       "517340        avril.forster@enron.com, sally.beck@enron.com\n",
       "517343       sally.beck@enron.com, mary.solmonson@enron.com\n",
       "517345    donna.lowry@enron.com, sherri.griffin@enron.co...\n",
       "517346      sally.beck@enron.com, michael.moscoso@enron.com\n",
       "517348                               shona.wilson@enron.com\n",
       "517349    araceli.romero@enron.com, maria.luna@enron.com...\n",
       "517351    araceli.romero@enron.com, maria.luna@enron.com...\n",
       "517352    araceli.romero@enron.com, maria.luna@enron.com...\n",
       "517353    araceli.romero@enron.com, maria.luna@enron.com...\n",
       "517355    araceli.romero@enron.com, maria.luna@enron.com...\n",
       "517357    kelly.tisman@enron.com, mike.perun@enron.com, ...\n",
       "517363    nancy.hernandez@enron.com, christy.lobusch@enr...\n",
       "517366         kelly.tisman@enron.com, sally.beck@enron.com\n",
       "517368      sally.beck@enron.com, bjorn.hagelmann@enron.com\n",
       "517369          carol.howes@enron.com, sally.beck@enron.com\n",
       "517370    sally.beck@enron.com, bjorn.hagelmann@enron.co...\n",
       "517371      sally.beck@enron.com, bjorn.hagelmann@enron.com\n",
       "Name: Bcc, Length: 127872, dtype: object"
      ]
     },
     "execution_count": 10,
     "metadata": {},
     "output_type": "execute_result"
    }
   ],
   "source": [
    "spamAnalysis = df['Bcc'].dropna()\n",
    "spamAnalysis"
   ]
  },
  {
   "cell_type": "markdown",
   "metadata": {},
   "source": [
    "Suspicious emails that are missing vital `To` information in the headings"
   ]
  },
  {
   "cell_type": "code",
   "execution_count": 11,
   "metadata": {},
   "outputs": [
    {
     "data": {
      "text/plain": [
       "0                                                       NaN\n",
       "972                                            working hard\n",
       "1806                                               schedule\n",
       "1919      Re: Reminder for Excel Charting and Organizing...\n",
       "2077      Re: Reminder for Excel Charting and Organizing...\n",
       "2144                          Lunch meeting with Tim Beldon\n",
       "2536                                               schedule\n",
       "2606                                      Brown bag meeting\n",
       "2761      - Inventory Collected from CN=Mark Guzman/OU=P...\n",
       "3106                                          Group Meeting\n",
       "3124                             Mike Swerzbin out all day.\n",
       "3246                                           working hard\n",
       "3279                                        Weather Meeting\n",
       "3325                                Brown Bag Lunch Meeting\n",
       "4089      - Inventory Collected from CN=Mark Guzman/OU=P...\n",
       "4234                                          Group Meeting\n",
       "4460                                               schedule\n",
       "4470                                        Weather Meeting\n",
       "4635                                      Brown bag meeting\n",
       "4681      - Inventory Collected from CN=Mark Guzman/OU=P...\n",
       "5041                             Mike Swerzbin out all day.\n",
       "5466                          Lunch meeting with Tim Beldon\n",
       "5487      - Inventory Collected from CN=Mark Guzman/OU=P...\n",
       "5696                                Brown Bag Lunch Meeting\n",
       "5795                                           working hard\n",
       "6092          Commissioner.COM E-Reports for Big E 11/30/00\n",
       "6096      Commissioner.COM E-Reports for The Perfect Lea...\n",
       "6123                               News In Bloom Newsletter\n",
       "6127           Commissioner.COM E-Reports for Y2KG 12/12/00\n",
       "6145      Commissioner.COM E-Reports for The Perfect Lea...\n",
       "                                ...                        \n",
       "515077                               Doorstep - Settlements\n",
       "515150             Steering Committee Meeting - 07 May 2000\n",
       "515255                               Sydney Process Changes\n",
       "515295                               Organizational Changes\n",
       "515427                        Important: GBN Meeting Change\n",
       "515563                      Enron Japan Trading Settlements\n",
       "515569                                          Action plan\n",
       "515646                                     Doorstep Meeting\n",
       "515677                      Fwd: GBN Meeting, 09 April 2000\n",
       "515690               Reporting Line for Sydney Risk Officer\n",
       "515783                                      Congratulations\n",
       "515883                                    Moema deal ticket\n",
       "515988                    Re: Risk Position - Eugenio Perez\n",
       "516025                                   ENA Survey Results\n",
       "516189                        ENA North America Orientation\n",
       "516248                         Global Accounting Promotions\n",
       "516265                Re: Global Risk Management Operations\n",
       "516284                Re: Global Risk Management Operations\n",
       "516303                                      Congratulations\n",
       "516331             Steering Committee Meeting - 07 May 2000\n",
       "516333                      Fwd: GBN Meeting, 09 April 2000\n",
       "516336                        Important: GBN Meeting Change\n",
       "516337                           GBN Meeting, 09 April 2000\n",
       "516345                       Associate & Analyst PRC Update\n",
       "516392                                      pre-PRC meeting\n",
       "516398                                              PRC Rep\n",
       "516402                       Associate & Analyst PRC Update\n",
       "516528                                        LNG Contracts\n",
       "516783                                     Doorstep Meeting\n",
       "516807                               Doorstep - Settlements\n",
       "Name: Subject, Length: 21848, dtype: object"
      ]
     },
     "execution_count": 11,
     "metadata": {},
     "output_type": "execute_result"
    }
   ],
   "source": [
    "missingTo = df.loc[df['To'].isnull()]\n",
    "missingTo['Subject']"
   ]
  },
  {
   "cell_type": "markdown",
   "metadata": {},
   "source": [
    "Ways from can be used to trail information"
   ]
  },
  {
   "cell_type": "code",
   "execution_count": 12,
   "metadata": {},
   "outputs": [
    {
     "data": {
      "text/html": [
       "<div>\n",
       "<style scoped>\n",
       "    .dataframe tbody tr th:only-of-type {\n",
       "        vertical-align: middle;\n",
       "    }\n",
       "\n",
       "    .dataframe tbody tr th {\n",
       "        vertical-align: top;\n",
       "    }\n",
       "\n",
       "    .dataframe thead th {\n",
       "        text-align: right;\n",
       "    }\n",
       "</style>\n",
       "<table border=\"1\" class=\"dataframe\">\n",
       "  <thead>\n",
       "    <tr style=\"text-align: right;\">\n",
       "      <th></th>\n",
       "      <th>Filename</th>\n",
       "      <th>Person</th>\n",
       "      <th>Directory</th>\n",
       "      <th>Message-ID</th>\n",
       "      <th>Date</th>\n",
       "      <th>From</th>\n",
       "      <th>To</th>\n",
       "      <th>Subject</th>\n",
       "      <th>Cc</th>\n",
       "      <th>Time</th>\n",
       "      <th>...</th>\n",
       "      <th>Content-Type</th>\n",
       "      <th>Content-Transfer-Encoding</th>\n",
       "      <th>Bcc</th>\n",
       "      <th>X-From</th>\n",
       "      <th>X-To</th>\n",
       "      <th>X-cc</th>\n",
       "      <th>X-bcc</th>\n",
       "      <th>X-Folder</th>\n",
       "      <th>X-Origin</th>\n",
       "      <th>X-FileName</th>\n",
       "    </tr>\n",
       "  </thead>\n",
       "  <tbody>\n",
       "    <tr>\n",
       "      <th>0</th>\n",
       "      <td>.DS_Store</td>\n",
       "      <td>maildir</td>\n",
       "      <td>maildir</td>\n",
       "      <td>NaN</td>\n",
       "      <td>NaN</td>\n",
       "      <td>NaN</td>\n",
       "      <td>NaN</td>\n",
       "      <td>NaN</td>\n",
       "      <td>NaN</td>\n",
       "      <td>NaN</td>\n",
       "      <td>...</td>\n",
       "      <td>NaN</td>\n",
       "      <td>NaN</td>\n",
       "      <td>NaN</td>\n",
       "      <td>NaN</td>\n",
       "      <td>NaN</td>\n",
       "      <td>NaN</td>\n",
       "      <td>NaN</td>\n",
       "      <td>NaN</td>\n",
       "      <td>NaN</td>\n",
       "      <td>NaN</td>\n",
       "    </tr>\n",
       "    <tr>\n",
       "      <th>137510</th>\n",
       "      <td>.DS_Store</td>\n",
       "      <td>maildir</td>\n",
       "      <td>kuykendall-t</td>\n",
       "      <td>NaN</td>\n",
       "      <td>NaN</td>\n",
       "      <td>NaN</td>\n",
       "      <td>NaN</td>\n",
       "      <td>NaN</td>\n",
       "      <td>NaN</td>\n",
       "      <td>NaN</td>\n",
       "      <td>...</td>\n",
       "      <td>NaN</td>\n",
       "      <td>NaN</td>\n",
       "      <td>NaN</td>\n",
       "      <td>NaN</td>\n",
       "      <td>NaN</td>\n",
       "      <td>NaN</td>\n",
       "      <td>NaN</td>\n",
       "      <td>NaN</td>\n",
       "      <td>NaN</td>\n",
       "      <td>NaN</td>\n",
       "    </tr>\n",
       "  </tbody>\n",
       "</table>\n",
       "<p>2 rows × 23 columns</p>\n",
       "</div>"
      ],
      "text/plain": [
       "         Filename   Person     Directory Message-ID Date From   To Subject  \\\n",
       "0       .DS_Store  maildir       maildir        NaN  NaN  NaN  NaN     NaN   \n",
       "137510  .DS_Store  maildir  kuykendall-t        NaN  NaN  NaN  NaN     NaN   \n",
       "\n",
       "         Cc Time    ...     Content-Type Content-Transfer-Encoding  Bcc  \\\n",
       "0       NaN  NaN    ...              NaN                       NaN  NaN   \n",
       "137510  NaN  NaN    ...              NaN                       NaN  NaN   \n",
       "\n",
       "       X-From X-To X-cc X-bcc X-Folder X-Origin X-FileName  \n",
       "0         NaN  NaN  NaN   NaN      NaN      NaN        NaN  \n",
       "137510    NaN  NaN  NaN   NaN      NaN      NaN        NaN  \n",
       "\n",
       "[2 rows x 23 columns]"
      ]
     },
     "execution_count": 12,
     "metadata": {},
     "output_type": "execute_result"
    }
   ],
   "source": [
    "fromfeature = df.loc[df['From'].isnull()]\n",
    "fromfeature"
   ]
  },
  {
   "cell_type": "markdown",
   "metadata": {},
   "source": [
    "Checking for non-existent `Message-ID`"
   ]
  },
  {
   "cell_type": "code",
   "execution_count": 13,
   "metadata": {},
   "outputs": [
    {
     "data": {
      "text/plain": [
       "2"
      ]
     },
     "execution_count": 13,
     "metadata": {},
     "output_type": "execute_result"
    }
   ],
   "source": [
    "nullID = df.loc[df['Message-ID'].isnull()]\n",
    "len(nullID)"
   ]
  },
  {
   "cell_type": "markdown",
   "metadata": {},
   "source": [
    "Checking `Content-Type` for deviations from established typs or null values"
   ]
  },
  {
   "cell_type": "code",
   "execution_count": 15,
   "metadata": {},
   "outputs": [
    {
     "data": {
      "text/plain": [
       "60"
      ]
     },
     "execution_count": 15,
     "metadata": {},
     "output_type": "execute_result"
    }
   ],
   "source": [
    "nullCt = df.loc[df['Content-Type'].isnull()]\n",
    "len(dateId)"
   ]
  },
  {
   "cell_type": "code",
   "execution_count": 22,
   "metadata": {},
   "outputs": [
    {
     "data": {
      "text/plain": [
       "0         NaN\n",
       "6196      NaN\n",
       "6486      NaN\n",
       "11375     NaN\n",
       "11994     NaN\n",
       "12264     NaN\n",
       "12522     NaN\n",
       "36529     NaN\n",
       "55227     NaN\n",
       "67656     NaN\n",
       "86635     NaN\n",
       "87823     NaN\n",
       "87835     NaN\n",
       "119360    NaN\n",
       "119380    NaN\n",
       "119458    NaN\n",
       "119543    NaN\n",
       "120639    NaN\n",
       "120901    NaN\n",
       "132800    NaN\n",
       "132803    NaN\n",
       "132804    NaN\n",
       "132806    NaN\n",
       "132809    NaN\n",
       "137510    NaN\n",
       "137547    NaN\n",
       "150922    NaN\n",
       "151420    NaN\n",
       "151827    NaN\n",
       "151831    NaN\n",
       "151841    NaN\n",
       "171845    NaN\n",
       "173815    NaN\n",
       "221554    NaN\n",
       "221678    NaN\n",
       "237626    NaN\n",
       "245154    NaN\n",
       "248783    NaN\n",
       "277526    NaN\n",
       "277538    NaN\n",
       "289020    NaN\n",
       "289048    NaN\n",
       "289894    NaN\n",
       "289966    NaN\n",
       "290168    NaN\n",
       "297862    NaN\n",
       "298428    NaN\n",
       "298893    NaN\n",
       "300187    NaN\n",
       "387625    NaN\n",
       "391523    NaN\n",
       "394087    NaN\n",
       "399883    NaN\n",
       "402113    NaN\n",
       "481335    NaN\n",
       "481352    NaN\n",
       "481367    NaN\n",
       "481528    NaN\n",
       "481533    NaN\n",
       "481545    NaN\n",
       "Name: Content-Type, dtype: object"
      ]
     },
     "execution_count": 22,
     "metadata": {},
     "output_type": "execute_result"
    }
   ],
   "source": [
    "aveType = df.loc[df['Content-Type'] != 'text/plain; charset=\"us-ascii\"']\n",
    "aveType = aveType.loc[aveType['Content-Type'] != 'text/plain; charset=\"ANSI_X3.4-1968\"']\n",
    "aveType['Content-Type']"
   ]
  }
 ],
 "metadata": {
  "kernelspec": {
   "display_name": "Python 3",
   "language": "python",
   "name": "python3"
  },
  "language_info": {
   "codemirror_mode": {
    "name": "ipython",
    "version": 3
   },
   "file_extension": ".py",
   "mimetype": "text/x-python",
   "name": "python",
   "nbconvert_exporter": "python",
   "pygments_lexer": "ipython3",
   "version": "3.6.4"
  }
 },
 "nbformat": 4,
 "nbformat_minor": 1
}
