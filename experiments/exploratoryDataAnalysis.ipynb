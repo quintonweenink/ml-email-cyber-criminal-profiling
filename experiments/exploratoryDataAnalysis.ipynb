{
 "cells": [
  {
   "cell_type": "markdown",
   "metadata": {},
   "source": [
    "Only reading in one email for now"
   ]
  },
  {
   "cell_type": "code",
   "execution_count": 49,
   "metadata": {},
   "outputs": [],
   "source": [
    "emailDir = \"./maildir/maildir\"\n",
    "enroncsv = \"../experiments/enron.csv\"\n",
    "metadataHeaders = '../experiments/metadataHeaders.csv'\n",
    "spamWords = '../experiments/spam.csv'"
   ]
  },
  {
   "cell_type": "code",
   "execution_count": 50,
   "metadata": {},
   "outputs": [
    {
     "data": {
      "text/plain": [
       "['Filename',\n",
       " 'Person',\n",
       " 'Directory',\n",
       " 'Message-ID',\n",
       " 'Date',\n",
       " 'From',\n",
       " 'To',\n",
       " 'Subject',\n",
       " 'Cc',\n",
       " 'Time',\n",
       " 'Attendees',\n",
       " 'Re',\n",
       " 'Mime-Version',\n",
       " 'Content-Type',\n",
       " 'Content-Transfer-Encoding',\n",
       " 'Bcc',\n",
       " 'X-From',\n",
       " 'X-To',\n",
       " 'X-cc',\n",
       " 'X-bcc',\n",
       " 'X-Folder',\n",
       " 'X-Origin',\n",
       " 'X-FileName']"
      ]
     },
     "execution_count": 50,
     "metadata": {},
     "output_type": "execute_result"
    }
   ],
   "source": [
    "import pandas as pd\n",
    "\n",
    "columns = pd.read_csv(metadataHeaders, sep=',').columns.tolist()\n",
    "columns"
   ]
  },
  {
   "cell_type": "code",
   "execution_count": 51,
   "metadata": {
    "scrolled": false
   },
   "outputs": [
    {
     "name": "stdout",
     "output_type": "stream",
     "text": [
      "-- DONE --\n"
     ]
    }
   ],
   "source": [
    "df = pd.read_csv(enroncsv, names=columns, sep='|', low_memory=False)\n",
    "\n",
    "print(\"-- DONE --\")"
   ]
  },
  {
   "cell_type": "markdown",
   "metadata": {},
   "source": [
    "Lets query for a mail that does not have `Message-ID` with `.JavaMail.evans@thyme`"
   ]
  },
  {
   "cell_type": "code",
   "execution_count": 52,
   "metadata": {},
   "outputs": [
    {
     "data": {
      "text/html": [
       "<div>\n",
       "<style scoped>\n",
       "    .dataframe tbody tr th:only-of-type {\n",
       "        vertical-align: middle;\n",
       "    }\n",
       "\n",
       "    .dataframe tbody tr th {\n",
       "        vertical-align: top;\n",
       "    }\n",
       "\n",
       "    .dataframe thead th {\n",
       "        text-align: right;\n",
       "    }\n",
       "</style>\n",
       "<table border=\"1\" class=\"dataframe\">\n",
       "  <thead>\n",
       "    <tr style=\"text-align: right;\">\n",
       "      <th></th>\n",
       "      <th>Filename</th>\n",
       "      <th>Person</th>\n",
       "      <th>Directory</th>\n",
       "      <th>Message-ID</th>\n",
       "      <th>Date</th>\n",
       "      <th>From</th>\n",
       "      <th>To</th>\n",
       "      <th>Subject</th>\n",
       "      <th>Cc</th>\n",
       "      <th>Time</th>\n",
       "      <th>...</th>\n",
       "      <th>Content-Type</th>\n",
       "      <th>Content-Transfer-Encoding</th>\n",
       "      <th>Bcc</th>\n",
       "      <th>X-From</th>\n",
       "      <th>X-To</th>\n",
       "      <th>X-cc</th>\n",
       "      <th>X-bcc</th>\n",
       "      <th>X-Folder</th>\n",
       "      <th>X-Origin</th>\n",
       "      <th>X-FileName</th>\n",
       "    </tr>\n",
       "  </thead>\n",
       "  <tbody>\n",
       "  </tbody>\n",
       "</table>\n",
       "<p>0 rows × 23 columns</p>\n",
       "</div>"
      ],
      "text/plain": [
       "Empty DataFrame\n",
       "Columns: [Filename, Person, Directory, Message-ID, Date, From, To, Subject, Cc, Time, Attendees, Re, Mime-Version, Content-Type, Content-Transfer-Encoding, Bcc, X-From, X-To, X-cc, X-bcc, X-Folder, X-Origin, X-FileName]\n",
       "Index: []\n",
       "\n",
       "[0 rows x 23 columns]"
      ]
     },
     "execution_count": 52,
     "metadata": {},
     "output_type": "execute_result"
    }
   ],
   "source": [
    "result = df[pd.notnull(df['Message-ID'])]\n",
    "\n",
    "result = result.loc[~result['Message-ID'].str.contains('.JavaMail.evans@thyme')]\n",
    "result"
   ]
  },
  {
   "cell_type": "code",
   "execution_count": 53,
   "metadata": {},
   "outputs": [
    {
     "data": {
      "text/plain": [
       "25"
      ]
     },
     "execution_count": 53,
     "metadata": {},
     "output_type": "execute_result"
    }
   ],
   "source": [
    "result = df[pd.notnull(df['Subject'])]\n",
    "\n",
    "result = result.loc[result['Subject'].str.contains('Porn')]\n",
    "len(result)"
   ]
  },
  {
   "cell_type": "markdown",
   "metadata": {},
   "source": [
    "No results so the server `.JavaMail.evans@thyme` is not helpfull"
   ]
  },
  {
   "cell_type": "markdown",
   "metadata": {},
   "source": [
    "Lets count the number of non null fields per header and make it a percentage over the total number of parsable emials"
   ]
  },
  {
   "cell_type": "code",
   "execution_count": 54,
   "metadata": {},
   "outputs": [
    {
     "data": {
      "image/png": "[encoded data removed]",
      "text/plain": [
       "<Figure size 432x288 with 1 Axes>"
      ]
     },
     "metadata": {},
     "output_type": "display_data"
    },
    {
     "data": {
      "text/plain": [
       "Filename                      0.000000\n",
       "Person                        0.000000\n",
       "Directory                     0.000000\n",
       "Message-ID                    0.000387\n",
       "Date                          0.000387\n",
       "From                          0.000387\n",
       "To                            4.222880\n",
       "Subject                       3.713189\n",
       "Cc                           75.279489\n",
       "Time                         99.999807\n",
       "Attendees                    99.994201\n",
       "Re                           99.998840\n",
       "Mime-Version                  0.011597\n",
       "Content-Type                  0.011597\n",
       "Content-Transfer-Encoding     0.010631\n",
       "Bcc                          75.284322\n",
       "X-From                        0.011404\n",
       "X-To                          1.770680\n",
       "X-cc                         75.084079\n",
       "X-bcc                        99.959410\n",
       "X-Folder                      0.012370\n",
       "X-Origin                      0.006958\n",
       "X-FileName                    0.820493\n",
       "dtype: float64"
      ]
     },
     "execution_count": 54,
     "metadata": {},
     "output_type": "execute_result"
    }
   ],
   "source": [
    "import matplotlib.pyplot as plt\n",
    "\n",
    "numberOfRows = len(df.index)\n",
    "missingData = (numberOfRows - df.count()) / numberOfRows * 100\n",
    "plot = missingData.plot(kind='bar')\n",
    "\n",
    "plt.show()\n",
    "missingData"
   ]
  },
  {
   "cell_type": "markdown",
   "metadata": {},
   "source": [
    "How many people flolders don't match their X-origin"
   ]
  },
  {
   "cell_type": "code",
   "execution_count": 55,
   "metadata": {},
   "outputs": [
    {
     "data": {
      "text/plain": [
       "35496"
      ]
     },
     "execution_count": 55,
     "metadata": {},
     "output_type": "execute_result"
    }
   ],
   "source": [
    "len(df.loc[df['Person'] != df['X-Origin'].str.lower()])"
   ]
  },
  {
   "cell_type": "markdown",
   "metadata": {},
   "source": [
    "How many different `Content-Type`'s are in the dataset"
   ]
  },
  {
   "cell_type": "code",
   "execution_count": 56,
   "metadata": {},
   "outputs": [
    {
     "data": {
      "text/plain": [
       "array([nan, 'text/plain; charset=\"us-ascii\"',\n",
       "       'text/plain; charset=\"ANSI_X3.4-1968\"'], dtype=object)"
      ]
     },
     "execution_count": 56,
     "metadata": {},
     "output_type": "execute_result"
    }
   ],
   "source": [
    "df['Content-Type'].unique()"
   ]
  },
  {
   "cell_type": "markdown",
   "metadata": {},
   "source": [
    "How many different `Content-Transfer-Encoding`'s are in the dataset"
   ]
  },
  {
   "cell_type": "code",
   "execution_count": 57,
   "metadata": {},
   "outputs": [
    {
     "data": {
      "text/plain": [
       "array([nan, '7bit', 'quoted-printable', 'base64',\n",
       "       '\\\\JSKILLIN (Non-Privileged)\\\\Deleted Items', '\\\\jskillin\\\\Inbox',\n",
       "       '\\\\HARORA (Non-Privileged)\\\\Arora, Harry\\\\Deleted Items',\n",
       "       '\\\\HARORA (Non-Privileged)\\\\Arora, Harry\\\\Inbox',\n",
       "       'EID: <24606> ERe: <0>'], dtype=object)"
      ]
     },
     "execution_count": 57,
     "metadata": {},
     "output_type": "execute_result"
    }
   ],
   "source": [
    "df['Content-Transfer-Encoding'].unique()"
   ]
  },
  {
   "cell_type": "markdown",
   "metadata": {},
   "source": [
    "How many different `Mime-Version`'s are in the dataset"
   ]
  },
  {
   "cell_type": "code",
   "execution_count": 58,
   "metadata": {},
   "outputs": [
    {
     "data": {
      "text/plain": [
       "array([nan,  1.])"
      ]
     },
     "execution_count": 58,
     "metadata": {},
     "output_type": "execute_result"
    }
   ],
   "source": [
    "df['Mime-Version'].unique()"
   ]
  },
  {
   "cell_type": "markdown",
   "metadata": {},
   "source": [
    "Lets remove those colums that are almost never filled in or that are irrelevent"
   ]
  },
  {
   "cell_type": "code",
   "execution_count": 59,
   "metadata": {},
   "outputs": [
    {
     "name": "stdout",
     "output_type": "stream",
     "text": [
      "-- DONE --\n"
     ]
    }
   ],
   "source": [
    "removableColumns = ['Time', 'Attendees', 'Bcc', 'X-bcc', 'X-cc', 'X-Origin']\n",
    "\n",
    "import csv\n",
    "with open('removableColumns.csv', 'w') as csvfile:\n",
    "    writer = csv.writer(csvfile)\n",
    "    for col in removableColumns:\n",
    "        writer.writerow([col])\n",
    "\n",
    "df.drop(removableColumns, axis=1)\n",
    "\n",
    "print('-- DONE --')"
   ]
  },
  {
   "cell_type": "code",
   "execution_count": 60,
   "metadata": {},
   "outputs": [
    {
     "name": "stdout",
     "output_type": "stream",
     "text": [
      "-- DONE --\n"
     ]
    }
   ],
   "source": [
    "listOfEmailsForBagOfWords = df.loc[df['Directory'].str.contains('inbox')]\n",
    "\n",
    "print('-- DONE --')"
   ]
  },
  {
   "cell_type": "code",
   "execution_count": 61,
   "metadata": {},
   "outputs": [
    {
     "data": {
      "text/plain": [
       "498161"
      ]
     },
     "execution_count": 61,
     "metadata": {},
     "output_type": "execute_result"
    }
   ],
   "source": [
    "wordsPerEmail = df[pd.notnull(df['Subject'])]\n",
    "nonSpamSubjects = wordsPerEmail['Subject']\n",
    "wordsPerEmail = nonSpamSubjects.str.split(' ')\n",
    "len(wordsPerEmail)"
   ]
  },
  {
   "cell_type": "code",
   "execution_count": 73,
   "metadata": {},
   "outputs": [],
   "source": [
    "def addToBagOfWords(dictionary, arr):\n",
    "    for word in arr:\n",
    "        word = word.lower()\n",
    "\n",
    "        if preg_match(\"/\\p{Han}+/u\", word):\n",
    "            continue\n",
    "        if '=' in word:\n",
    "            continue\n",
    "        if '/' in word:\n",
    "            continue\n",
    "        if '\\\\' in word:\n",
    "            continue\n",
    "        if '_' in word:\n",
    "            continue\n",
    "        if '-' in word:\n",
    "            continue\n",
    "        if ':' in word:\n",
    "            continue\n",
    "        if '@' in word:\n",
    "            continue\n",
    "        if '#' in word:\n",
    "            continue\n",
    "        if '$' in word:\n",
    "            word = '$'\n",
    "\n",
    "        word = word.replace('.', '')\n",
    "        word = word.replace(')', '')\n",
    "        word = word.replace('(', '')\n",
    "        word = word.replace('&', '')\n",
    "        word = word.replace('\\'', '')\n",
    "        word = word.replace('\\\"', '')\n",
    "        word = word.replace(',', '')\n",
    "        word = word.replace('[', '')\n",
    "        word = word.replace(']', '')\n",
    "        word = word.replace('{', '')\n",
    "        word = word.replace('}', '')\n",
    "        word = word.replace(';', '')\n",
    "\n",
    "        if word == '':\n",
    "            continue\n",
    "\n",
    "        if word in dictionary:\n",
    "            dictionary[word] = dictionary[word] + 1\n",
    "        else:\n",
    "            dictionary[word] = 1\n",
    "            \n",
    "    return dictionary"
   ]
  },
  {
   "cell_type": "code",
   "execution_count": 74,
   "metadata": {},
   "outputs": [],
   "source": [
    "def addToDictionary(dictionary, arr):\n",
    "    for index, subject in arr.iteritems():\n",
    "        dictionary = addToBagOfWords(dictionary, subject)\n",
    "                \n",
    "    return dictionary"
   ]
  },
  {
   "cell_type": "code",
   "execution_count": 75,
   "metadata": {},
   "outputs": [
    {
     "ename": "NameError",
     "evalue": "name 'preg_match' is not defined",
     "output_type": "error",
     "traceback": [
      "\u001b[0;31m---------------------------------------------------------------------------\u001b[0m",
      "\u001b[0;31mNameError\u001b[0m                                 Traceback (most recent call last)",
      "\u001b[0;32m<ipython-input-75-246426a7a26d>\u001b[0m in \u001b[0;36m<module>\u001b[0;34m()\u001b[0m\n\u001b[1;32m      1\u001b[0m \u001b[0mdictionary\u001b[0m \u001b[0;34m=\u001b[0m \u001b[0;34m{\u001b[0m\u001b[0;34m}\u001b[0m\u001b[0;34m\u001b[0m\u001b[0m\n\u001b[1;32m      2\u001b[0m \u001b[0;34m\u001b[0m\u001b[0m\n\u001b[0;32m----> 3\u001b[0;31m \u001b[0mdictionary\u001b[0m \u001b[0;34m=\u001b[0m \u001b[0maddToDictionary\u001b[0m\u001b[0;34m(\u001b[0m\u001b[0mdictionary\u001b[0m\u001b[0;34m,\u001b[0m \u001b[0mwordsPerEmail\u001b[0m\u001b[0;34m)\u001b[0m\u001b[0;34m\u001b[0m\u001b[0m\n\u001b[0m\u001b[1;32m      4\u001b[0m \u001b[0;34m\u001b[0m\u001b[0m\n\u001b[1;32m      5\u001b[0m \u001b[0mlen\u001b[0m\u001b[0;34m(\u001b[0m\u001b[0mdictionary\u001b[0m\u001b[0;34m)\u001b[0m\u001b[0;34m\u001b[0m\u001b[0m\n",
      "\u001b[0;32m<ipython-input-74-590e66588635>\u001b[0m in \u001b[0;36maddToDictionary\u001b[0;34m(dictionary, arr)\u001b[0m\n\u001b[1;32m      1\u001b[0m \u001b[0;32mdef\u001b[0m \u001b[0maddToDictionary\u001b[0m\u001b[0;34m(\u001b[0m\u001b[0mdictionary\u001b[0m\u001b[0;34m,\u001b[0m \u001b[0marr\u001b[0m\u001b[0;34m)\u001b[0m\u001b[0;34m:\u001b[0m\u001b[0;34m\u001b[0m\u001b[0m\n\u001b[1;32m      2\u001b[0m     \u001b[0;32mfor\u001b[0m \u001b[0mindex\u001b[0m\u001b[0;34m,\u001b[0m \u001b[0msubject\u001b[0m \u001b[0;32min\u001b[0m \u001b[0marr\u001b[0m\u001b[0;34m.\u001b[0m\u001b[0miteritems\u001b[0m\u001b[0;34m(\u001b[0m\u001b[0;34m)\u001b[0m\u001b[0;34m:\u001b[0m\u001b[0;34m\u001b[0m\u001b[0m\n\u001b[0;32m----> 3\u001b[0;31m         \u001b[0mdictionary\u001b[0m \u001b[0;34m=\u001b[0m \u001b[0maddToBagOfWords\u001b[0m\u001b[0;34m(\u001b[0m\u001b[0mdictionary\u001b[0m\u001b[0;34m,\u001b[0m \u001b[0msubject\u001b[0m\u001b[0;34m)\u001b[0m\u001b[0;34m\u001b[0m\u001b[0m\n\u001b[0m\u001b[1;32m      4\u001b[0m \u001b[0;34m\u001b[0m\u001b[0m\n\u001b[1;32m      5\u001b[0m     \u001b[0;32mreturn\u001b[0m \u001b[0mdictionary\u001b[0m\u001b[0;34m\u001b[0m\u001b[0m\n",
      "\u001b[0;32m<ipython-input-73-be71c65df916>\u001b[0m in \u001b[0;36maddToBagOfWords\u001b[0;34m(dictionary, arr)\u001b[0m\n\u001b[1;32m      3\u001b[0m         \u001b[0mword\u001b[0m \u001b[0;34m=\u001b[0m \u001b[0mword\u001b[0m\u001b[0;34m.\u001b[0m\u001b[0mlower\u001b[0m\u001b[0;34m(\u001b[0m\u001b[0;34m)\u001b[0m\u001b[0;34m\u001b[0m\u001b[0m\n\u001b[1;32m      4\u001b[0m \u001b[0;34m\u001b[0m\u001b[0m\n\u001b[0;32m----> 5\u001b[0;31m         \u001b[0;32mif\u001b[0m \u001b[0mpreg_match\u001b[0m\u001b[0;34m(\u001b[0m\u001b[0;34m\"/\\p{Han}+/u\"\u001b[0m\u001b[0;34m,\u001b[0m \u001b[0mword\u001b[0m\u001b[0;34m)\u001b[0m\u001b[0;34m:\u001b[0m\u001b[0;34m\u001b[0m\u001b[0m\n\u001b[0m\u001b[1;32m      6\u001b[0m             \u001b[0;32mcontinue\u001b[0m\u001b[0;34m\u001b[0m\u001b[0m\n\u001b[1;32m      7\u001b[0m         \u001b[0;32mif\u001b[0m \u001b[0;34m'='\u001b[0m \u001b[0;32min\u001b[0m \u001b[0mword\u001b[0m\u001b[0;34m:\u001b[0m\u001b[0;34m\u001b[0m\u001b[0m\n",
      "\u001b[0;31mNameError\u001b[0m: name 'preg_match' is not defined"
     ]
    }
   ],
   "source": [
    "dictionary = {}\n",
    "\n",
    "dictionary = addToDictionary(dictionary, wordsPerEmail)\n",
    "        \n",
    "len(dictionary)"
   ]
  },
  {
   "cell_type": "code",
   "execution_count": 66,
   "metadata": {
    "scrolled": false
   },
   "outputs": [
    {
     "data": {
      "text/html": [
       "<div>\n",
       "<style scoped>\n",
       "    .dataframe tbody tr th:only-of-type {\n",
       "        vertical-align: middle;\n",
       "    }\n",
       "\n",
       "    .dataframe tbody tr th {\n",
       "        vertical-align: top;\n",
       "    }\n",
       "\n",
       "    .dataframe thead th {\n",
       "        text-align: right;\n",
       "    }\n",
       "</style>\n",
       "<table border=\"1\" class=\"dataframe\">\n",
       "  <thead>\n",
       "    <tr style=\"text-align: right;\">\n",
       "      <th></th>\n",
       "      <th>Subject</th>\n",
       "    </tr>\n",
       "  </thead>\n",
       "  <tbody>\n",
       "    <tr>\n",
       "      <th>0</th>\n",
       "      <td>私の裸の写真を公開するより、隠し事も、何一つとして隠し事や疚しい事をしてないという証明に、貴...</td>\n",
       "    </tr>\n",
       "    <tr>\n",
       "      <th>1</th>\n",
       "      <td>お早う御座います、三井です。既にお伝えしておりますが、お返事が無いので今一度改めて、時間も無...</td>\n",
       "    </tr>\n",
       "    <tr>\n",
       "      <th>2</th>\n",
       "      <td>WOWWOW・スカパー全部見れます</td>\n",
       "    </tr>\n",
       "    <tr>\n",
       "      <th>3</th>\n",
       "      <td>◆ ◇ ◆ 手 数 料 無 料◆ ◇ ◆</td>\n",
       "    </tr>\n",
       "    <tr>\n",
       "      <th>4</th>\n",
       "      <td>【 無 料手数 料】</td>\n",
       "    </tr>\n",
       "    <tr>\n",
       "      <th>5</th>\n",
       "      <td>【 最重要】 手数料 無 料 【 ご 確 認 く だ さ い 】</td>\n",
       "    </tr>\n",
       "    <tr>\n",
       "      <th>6</th>\n",
       "      <td>手 数料 の 無料 を 完了 させ ま し た ！</td>\n",
       "    </tr>\n",
       "    <tr>\n",
       "      <th>7</th>\n",
       "      <td>ご入金のお知らせ</td>\n",
       "    </tr>\n",
       "    <tr>\n",
       "      <th>8</th>\n",
       "      <td>何だか無償にラーメンが食べたくなってきました…</td>\n",
       "    </tr>\n",
       "    <tr>\n",
       "      <th>9</th>\n",
       "      <td>lhmwjkaqelii</td>\n",
       "    </tr>\n",
       "    <tr>\n",
       "      <th>10</th>\n",
       "      <td>ご入金のお知らせ</td>\n",
       "    </tr>\n",
       "    <tr>\n",
       "      <th>11</th>\n",
       "      <td>Community から新着メールのお知らせです。</td>\n",
       "    </tr>\n",
       "    <tr>\n",
       "      <th>12</th>\n",
       "      <td>ラインしましょう！でもメールちゃんと見てから返事してください…？？</td>\n",
       "    </tr>\n",
       "    <tr>\n",
       "      <th>13</th>\n",
       "      <td>勘違いはしないで欲しい。僕はYOU達の味方だよ！！</td>\n",
       "    </tr>\n",
       "    <tr>\n",
       "      <th>14</th>\n",
       "      <td>■受信ボックスの容量が規定値を超えました■</td>\n",
       "    </tr>\n",
       "    <tr>\n",
       "      <th>15</th>\n",
       "      <td>Kalkınma ajanslarından %50 hibe</td>\n",
       "    </tr>\n",
       "    <tr>\n",
       "      <th>16</th>\n",
       "      <td>朗 報 で す 。 お 手続 き の 手 数 料 は 負 担 い た し まし た 。</td>\n",
       "    </tr>\n",
       "    <tr>\n",
       "      <th>17</th>\n",
       "      <td>lists-djb-ezmlm@bruce-guenter.dyndns.org</td>\n",
       "    </tr>\n",
       "    <tr>\n",
       "      <th>18</th>\n",
       "      <td>無 料おめ で と う ご ざいま し た ！！ ！</td>\n",
       "    </tr>\n",
       "    <tr>\n",
       "      <th>19</th>\n",
       "      <td>☆ 無 料 ★手 数 料 無 料 ★無 料 ☆ \\r\\n</td>\n",
       "    </tr>\n",
       "    <tr>\n",
       "      <th>20</th>\n",
       "      <td>bruce@bruce-guenter.dyndns.org</td>\n",
       "    </tr>\n",
       "    <tr>\n",
       "      <th>21</th>\n",
       "      <td>現在無料でご利用可能となっております</td>\n",
       "    </tr>\n",
       "    <tr>\n",
       "      <th>22</th>\n",
       "      <td>当社の商品価格は総額で表示しています</td>\n",
       "    </tr>\n",
       "    <tr>\n",
       "      <th>23</th>\n",
       "      <td>□重l要連l絡□</td>\n",
       "    </tr>\n",
       "    <tr>\n",
       "      <th>24</th>\n",
       "      <td>税金対策の為に車を買うか援.助をするか迷ってます。金額は一応 =?ISO-2022-JP?B...</td>\n",
       "    </tr>\n",
       "    <tr>\n",
       "      <th>25</th>\n",
       "      <td>Community から新着メールのお知らせです。</td>\n",
       "    </tr>\n",
       "    <tr>\n",
       "      <th>26</th>\n",
       "      <td>確実に 手 数料の 負 担 が 完了 し たので安 心して く だ さ い ね 。</td>\n",
       "    </tr>\n",
       "    <tr>\n",
       "      <th>27</th>\n",
       "      <td>お め でとうご ざ います 、 こ れ で 手 数 料 が 無 料 に な りま す 。</td>\n",
       "    </tr>\n",
       "    <tr>\n",
       "      <th>28</th>\n",
       "      <td>無 料 手数 料 ◆無料 手 数 料 ◆無 料 手数 料</td>\n",
       "    </tr>\n",
       "    <tr>\n",
       "      <th>29</th>\n",
       "      <td>手 数 料 が無 料 とな っ て お り ま す 。 【 確 認 必須 】</td>\n",
       "    </tr>\n",
       "    <tr>\n",
       "      <th>...</th>\n",
       "      <td>...</td>\n",
       "    </tr>\n",
       "    <tr>\n",
       "      <th>19591</th>\n",
       "      <td>貴方の口座を教えて下さい。そこに「1億円」を振り込みます。</td>\n",
       "    </tr>\n",
       "    <tr>\n",
       "      <th>19592</th>\n",
       "      <td>第四节 主要竞争对手分析</td>\n",
       "    </tr>\n",
       "    <tr>\n",
       "      <th>19593</th>\n",
       "      <td>貴方の口座を教えて下さい。そこに「1億円」を振り込みます。私は末期の癌にて余命宣告を受けまし...</td>\n",
       "    </tr>\n",
       "    <tr>\n",
       "      <th>19594</th>\n",
       "      <td>Community から新着メールのお知らせです。</td>\n",
       "    </tr>\n",
       "    <tr>\n",
       "      <th>19595</th>\n",
       "      <td>支 援 は 手 数 料 無 料</td>\n",
       "    </tr>\n",
       "    <tr>\n",
       "      <th>19596</th>\n",
       "      <td>※ご入金がありましたので至急ご確認下さい※</td>\n",
       "    </tr>\n",
       "    <tr>\n",
       "      <th>19597</th>\n",
       "      <td>障害者でもいいのなら友達になって欲しいです…？子供の頃から耳が聞こえないんです。それでもいい...</td>\n",
       "    </tr>\n",
       "    <tr>\n",
       "      <th>19598</th>\n",
       "      <td>在庫一掃売りつくしセール</td>\n",
       "    </tr>\n",
       "    <tr>\n",
       "      <th>19599</th>\n",
       "      <td>おめでとうございます</td>\n",
       "    </tr>\n",
       "    <tr>\n",
       "      <th>19600</th>\n",
       "      <td>手 数 料 が 無 料 と な っ てお り ます 。 【確 認 必 須 】</td>\n",
       "    </tr>\n",
       "    <tr>\n",
       "      <th>19601</th>\n",
       "      <td>結婚してくれますか？</td>\n",
       "    </tr>\n",
       "    <tr>\n",
       "      <th>19602</th>\n",
       "      <td>こ れ か ら手 数 料 が 無料 に な り ま す よ 。 お め で と う ご ざ ...</td>\n",
       "    </tr>\n",
       "    <tr>\n",
       "      <th>19603</th>\n",
       "      <td>【負担 】 今 日 の手 数料 は負担 し ま し た よ 。 【手 数 料 】</td>\n",
       "    </tr>\n",
       "    <tr>\n",
       "      <th>19604</th>\n",
       "      <td>岩崎恭子さんの話には聞く耳を持ち、一生懸命に誠意を見せてあげる事が大切です。アナタと彼女の力...</td>\n",
       "    </tr>\n",
       "    <tr>\n",
       "      <th>19605</th>\n",
       "      <td>無 料 手 数 料◆ 無 料 手数 料 ◆ 無 料 手 数料</td>\n",
       "    </tr>\n",
       "    <tr>\n",
       "      <th>19606</th>\n",
       "      <td>明けましておめでとう！いきなりだけど…YOUの事で間違いないんだよね？？</td>\n",
       "    </tr>\n",
       "    <tr>\n",
       "      <th>19607</th>\n",
       "      <td>Community から新着メールのお知らせです。</td>\n",
       "    </tr>\n",
       "    <tr>\n",
       "      <th>19608</th>\n",
       "      <td>PCメールをご利用中のお客様へ</td>\n",
       "    </tr>\n",
       "    <tr>\n",
       "      <th>19609</th>\n",
       "      <td>光は今後アナタと貴方のまわりに必ず訪れる大きな病を克服させる力があります。今その光を貴方が受...</td>\n",
       "    </tr>\n",
       "    <tr>\n",
       "      <th>19610</th>\n",
       "      <td>■完全無料のご案内■</td>\n",
       "    </tr>\n",
       "    <tr>\n",
       "      <th>19611</th>\n",
       "      <td>あなた様は無駄なことをしています。何故、無駄なことか・・・</td>\n",
       "    </tr>\n",
       "    <tr>\n",
       "      <th>19612</th>\n",
       "      <td>送料・消費税完全無料中</td>\n",
       "    </tr>\n",
       "    <tr>\n",
       "      <th>19613</th>\n",
       "      <td>lists-reiserfs-list@bruce-guenter.dyndns.org</td>\n",
       "    </tr>\n",
       "    <tr>\n",
       "      <th>19614</th>\n",
       "      <td>とても簡単にお相手様のアドレスを調べる事が可能です。興味があれば是非ご連絡下さい。</td>\n",
       "    </tr>\n",
       "    <tr>\n",
       "      <th>19615</th>\n",
       "      <td>手 数 料 が 無料 と な っ て おり ま す。 【 確認必 須 】</td>\n",
       "    </tr>\n",
       "    <tr>\n",
       "      <th>19616</th>\n",
       "      <td>Community から新着メールのお知らせです。</td>\n",
       "    </tr>\n",
       "    <tr>\n",
       "      <th>19617</th>\n",
       "      <td>【 無料手 数 料 】</td>\n",
       "    </tr>\n",
       "    <tr>\n",
       "      <th>19618</th>\n",
       "      <td>★☆★無修正動画無料簡閲セール★☆★</td>\n",
       "    </tr>\n",
       "    <tr>\n",
       "      <th>19619</th>\n",
       "      <td>「返済不要の支援金」の「1億円」の今、貴方の指定する口座へ振り込ませて頂こうと思います。理由...</td>\n",
       "    </tr>\n",
       "    <tr>\n",
       "      <th>19620</th>\n",
       "      <td>電話番号で友だちが追加されました。</td>\n",
       "    </tr>\n",
       "  </tbody>\n",
       "</table>\n",
       "<p>19621 rows × 1 columns</p>\n",
       "</div>"
      ],
      "text/plain": [
       "                                                 Subject\n",
       "0      私の裸の写真を公開するより、隠し事も、何一つとして隠し事や疚しい事をしてないという証明に、貴...\n",
       "1      お早う御座います、三井です。既にお伝えしておりますが、お返事が無いので今一度改めて、時間も無...\n",
       "2                                      WOWWOW・スカパー全部見れます\n",
       "3                                   ◆ ◇ ◆ 手 数 料 無 料◆ ◇ ◆\n",
       "4                                             【 無 料手数 料】\n",
       "5                      【 最重要】 手数料 無 料 【 ご 確 認 く だ さ い 】 \n",
       "6                             手 数料 の 無料 を 完了 させ ま し た ！ \n",
       "7                                               ご入金のお知らせ\n",
       "8                                何だか無償にラーメンが食べたくなってきました…\n",
       "9                                           lhmwjkaqelii\n",
       "10                                              ご入金のお知らせ\n",
       "11                             Community から新着メールのお知らせです。\n",
       "12                     ラインしましょう！でもメールちゃんと見てから返事してください…？？\n",
       "13                             勘違いはしないで欲しい。僕はYOU達の味方だよ！！\n",
       "14                                 ■受信ボックスの容量が規定値を超えました■\n",
       "15                       Kalkınma ajanslarından %50 hibe\n",
       "16           朗 報 で す 。 お 手続 き の 手 数 料 は 負 担 い た し まし た 。\n",
       "17              lists-djb-ezmlm@bruce-guenter.dyndns.org\n",
       "18                           無 料おめ で と う ご ざいま し た ！！ ！ \n",
       "19                          ☆ 無 料 ★手 数 料 無 料 ★無 料 ☆ \\r\\n\n",
       "20                        bruce@bruce-guenter.dyndns.org\n",
       "21                                    現在無料でご利用可能となっております\n",
       "22                                    当社の商品価格は総額で表示しています\n",
       "23                                              □重l要連l絡□\n",
       "24     税金対策の為に車を買うか援.助をするか迷ってます。金額は一応 =?ISO-2022-JP?B...\n",
       "25                             Community から新着メールのお知らせです。\n",
       "26            確実に 手 数料の 負 担 が 完了 し たので安 心して く だ さ い ね 。 \n",
       "27        お め でとうご ざ います 、 こ れ で 手 数 料 が 無 料 に な りま す 。 \n",
       "28                         無 料 手数 料 ◆無料 手 数 料 ◆無 料 手数 料 \n",
       "29               手 数 料 が無 料 とな っ て お り ま す 。 【 確 認 必須 】 \n",
       "...                                                  ...\n",
       "19591                      貴方の口座を教えて下さい。そこに「1億円」を振り込みます。\n",
       "19592                                       第四节 主要竞争对手分析\n",
       "19593  貴方の口座を教えて下さい。そこに「1億円」を振り込みます。私は末期の癌にて余命宣告を受けまし...\n",
       "19594                          Community から新着メールのお知らせです。\n",
       "19595                                   支 援 は 手 数 料 無 料 \n",
       "19596                              ※ご入金がありましたので至急ご確認下さい※\n",
       "19597  障害者でもいいのなら友達になって欲しいです…？子供の頃から耳が聞こえないんです。それでもいい...\n",
       "19598                                       在庫一掃売りつくしセール\n",
       "19599                                         おめでとうございます\n",
       "19600            手 数 料 が 無 料 と な っ てお り ます 。 【確 認 必 須 】 \n",
       "19601                                         結婚してくれますか？\n",
       "19602  こ れ か ら手 数 料 が 無料 に な り ま す よ 。 お め で と う ご ざ ...\n",
       "19603           【負担 】 今 日 の手 数料 は負担 し ま し た よ 。 【手 数 料 】\n",
       "19604  岩崎恭子さんの話には聞く耳を持ち、一生懸命に誠意を見せてあげる事が大切です。アナタと彼女の力...\n",
       "19605                    無 料 手 数 料◆ 無 料 手数 料 ◆ 無 料 手 数料 \n",
       "19606               明けましておめでとう！いきなりだけど…YOUの事で間違いないんだよね？？\n",
       "19607                          Community から新着メールのお知らせです。\n",
       "19608                                    PCメールをご利用中のお客様へ\n",
       "19609  光は今後アナタと貴方のまわりに必ず訪れる大きな病を克服させる力があります。今その光を貴方が受...\n",
       "19610                                         ■完全無料のご案内■\n",
       "19611                      あなた様は無駄なことをしています。何故、無駄なことか・・・\n",
       "19612                                        送料・消費税完全無料中\n",
       "19613       lists-reiserfs-list@bruce-guenter.dyndns.org\n",
       "19614          とても簡単にお相手様のアドレスを調べる事が可能です。興味があれば是非ご連絡下さい。\n",
       "19615               手 数 料 が 無料 と な っ て おり ま す。 【 確認必 須 】\n",
       "19616                          Community から新着メールのお知らせです。\n",
       "19617                                        【 無料手 数 料 】\n",
       "19618                                 ★☆★無修正動画無料簡閲セール★☆★\n",
       "19619  「返済不要の支援金」の「1億円」の今、貴方の指定する口座へ振り込ませて頂こうと思います。理由...\n",
       "19620                                  電話番号で友だちが追加されました。\n",
       "\n",
       "[19621 rows x 1 columns]"
      ]
     },
     "execution_count": 66,
     "metadata": {},
     "output_type": "execute_result"
    }
   ],
   "source": [
    "spamSubjects = pd.read_csv(spamWords, names=['Subject'], sep=',')\n",
    "spamSubjects"
   ]
  },
  {
   "cell_type": "code",
   "execution_count": 18,
   "metadata": {},
   "outputs": [
    {
     "data": {
      "text/plain": [
       "39606"
      ]
     },
     "execution_count": 18,
     "metadata": {},
     "output_type": "execute_result"
    }
   ],
   "source": [
    "wordsPerEmail = spamSubjects['Subject'].str.split(' ')\n",
    "\n",
    "dictionary = addToDictionary(dictionary, wordsPerEmail)\n",
    "        \n",
    "len(dictionary)"
   ]
  },
  {
   "cell_type": "code",
   "execution_count": 19,
   "metadata": {},
   "outputs": [
    {
     "data": {
      "text/plain": [
       "39606"
      ]
     },
     "execution_count": 19,
     "metadata": {},
     "output_type": "execute_result"
    }
   ],
   "source": [
    "dictionaryList = []\n",
    "for key in dictionary:\n",
    "    dictionaryList.append([key, dictionary[key]])\n",
    "    \n",
    "dictionaryList = pd.DataFrame(dictionaryList, columns=[\"Word\", \"Occurances\"])\n",
    "len(dictionaryList)"
   ]
  },
  {
   "cell_type": "code",
   "execution_count": 20,
   "metadata": {},
   "outputs": [
    {
     "data": {
      "text/plain": [
       "5559"
      ]
     },
     "execution_count": 20,
     "metadata": {},
     "output_type": "execute_result"
    }
   ],
   "source": [
    "dictionaryList = dictionaryList.loc[dictionaryList['Occurances'] > 30].reset_index(drop=True)\n",
    "len(dictionaryList)"
   ]
  },
  {
   "cell_type": "code",
   "execution_count": 21,
   "metadata": {},
   "outputs": [
    {
     "data": {
      "text/plain": [
       "999"
      ]
     },
     "execution_count": 21,
     "metadata": {},
     "output_type": "execute_result"
    }
   ],
   "source": [
    "import matplotlib.pyplot as plt\n",
    "import numpy as np\n",
    "\n",
    "training = []\n",
    "\n",
    "trainingPos = df[pd.notnull(df['Subject'])]\n",
    "trainingPos = trainingPos.sample(750)\n",
    "trainingPos = trainingPos['Subject']\n",
    "\n",
    "trainingPosSplit = trainingPos.str.split(' ')\n",
    "\n",
    "for index, subject in trainingPosSplit.iteritems():\n",
    "    posBagOfWords = {}\n",
    "    posBagOfWords = addToBagOfWords(posBagOfWords, subject)\n",
    "    \n",
    "    listOfIn = []\n",
    "    for key in posBagOfWords:\n",
    "        listOfIn.append(key)\n",
    "    \n",
    "    inputBag = dictionaryList['Word'].isin(listOfIn).values.tolist()\n",
    "    \n",
    "    training.append([np.array(inputBag), np.array([0])])\n",
    "    \n",
    "trainingNeg = spamSubjects.sample(len(spamSubjects))\n",
    "trainingNeg = trainingNeg['Subject']\n",
    "\n",
    "trainingNegSplit = trainingNeg.str.split(' ')\n",
    "\n",
    "for index, subject in trainingNegSplit.iteritems():\n",
    "    negBagOfWords = {}\n",
    "    negBagOfWords = addToBagOfWords(negBagOfWords, subject)\n",
    "    \n",
    "    listOfIn = []\n",
    "    for key in negBagOfWords:\n",
    "        listOfIn.append(key)\n",
    "    \n",
    "    inputBag = dictionaryList['Word'].isin(listOfIn).values.tolist()\n",
    "    \n",
    "    training.append([np.array(inputBag), np.array([1])])\n",
    "\n",
    "training = np.array(training)\n",
    "np.random.shuffle(training)\n",
    "\n",
    "len(training)"
   ]
  },
  {
   "cell_type": "code",
   "execution_count": 33,
   "metadata": {},
   "outputs": [],
   "source": [
    "from mlpy.dataSet.dataSetTool import DataSetTool\n",
    "from mlpy.numberGenerator.bounds import Bounds\n",
    "from mlpy.neuralNetwork.feedForwardNeuralNetwork import NeuralNetwork\n",
    "from mlpy.neuralNetwork.structure.layer import Layer\n",
    "\n",
    "l_rate = 0.001\n",
    "bounds = Bounds(-2, 2)\n",
    "\n",
    "inputLayer = Layer(bounds, size = len(training[0][0]), prev = None, l_rate = l_rate, bias = True, label = \"Input layer\")\n",
    "hiddenLayer = Layer(bounds, size = 200, prev = inputLayer, l_rate = l_rate, bias = True, label = \"Hidden layer\")\n",
    "hiddenLayer2 = Layer(bounds, size = 20, prev = hiddenLayer, l_rate = l_rate, bias = True, label = \"Hidden layer 2\")\n",
    "outputLayer = Layer(bounds, size = len(training[0][1]), prev = hiddenLayer2, l_rate = l_rate, bias = False, label = \"Output layer\")\n",
    "\n",
    "fnn = NeuralNetwork()\n",
    "fnn.appendLayer(inputLayer)\n",
    "fnn.appendLayer(hiddenLayer)\n",
    "fnn.appendLayer(hiddenLayer2)\n",
    "fnn.appendLayer(outputLayer)\n",
    "\n",
    "group_training = np.array([input[0] for input in training])\n",
    "group_target = np.array([output[1] for output in training])\n",
    "\n",
    "errors = []"
   ]
  },
  {
   "cell_type": "code",
   "execution_count": 34,
   "metadata": {},
   "outputs": [
    {
     "name": "stdout",
     "output_type": "stream",
     "text": [
      "Starting..\n",
      "-0.6519674185313281\n",
      "0.020188664223255395\n",
      "0.008226975910954792\n",
      "0.003284664975331286\n",
      "0.0005595206945289052\n",
      "-0.001295962934563822\n",
      "-0.0027013154879950226\n",
      "-0.00381156574348375\n",
      "-0.004671650769885622\n",
      "-0.005452587971614472\n",
      "-0.006204339001672575\n",
      "-0.006934272247677567\n",
      "-0.007647331444853968\n",
      "-0.008335004295955913\n",
      "-0.00898382616507734\n",
      "-0.009577015406098151\n",
      "-0.010089629817736053\n",
      "-0.010505131782961565\n",
      "-0.010832605915854054\n",
      "-0.011066381625738596\n",
      "-0.011125731779884206\n",
      "-0.010929835898857137\n",
      "-0.010483450096031507\n",
      "-0.009881954345663684\n",
      "-0.00919210818135517\n",
      "-0.008467148275646555\n",
      "-0.007771265757767777\n",
      "-0.007132141517456975\n",
      "-0.006552906737940374\n",
      "-0.006042424733129787\n",
      "-0.005617556524699081\n",
      "-0.005278385144402329\n",
      "-0.004997396029287101\n",
      "-0.004744807103604834\n",
      "-0.004497665578801472\n",
      "-0.004236565980455868\n",
      "-0.00395372520519653\n",
      "-0.0036613532986354193\n",
      "-0.003435969330552792\n",
      "-0.0033723347081587836\n",
      "-0.0033864117160646886\n",
      "-0.0034044348734333946\n",
      "-0.003414288885766494\n",
      "-0.0034122737910993925\n",
      "-0.003392233832875468\n",
      "-0.003348085006202951\n",
      "-0.0032727335871401376\n",
      "-0.003164576076045337\n",
      "-0.0030413954415782095\n",
      "-0.002920245265635102\n",
      "-0.002777694214369198\n",
      "-0.0025742057822683807\n",
      "-0.0023250063616429874\n",
      "-0.0020781603036912526\n",
      "-0.0018582413140077847\n",
      "-0.0016403528268857295\n",
      "-0.0013798565578500752\n",
      "-0.0010454823005752536\n",
      "-0.0006136723510739089\n",
      "-0.0001571703659887139\n",
      "0.00010724913943531003\n",
      "0.00021238767899702118\n",
      "0.00023972593109400852\n",
      "0.00017246468993721727\n",
      "-1.5495744204548562e-05\n",
      "-0.0002867823708609793\n",
      "-0.000544838480301517\n",
      "-0.0007084099833815569\n",
      "-0.0007429770238084236\n",
      "-0.0006701322870055993\n",
      "-0.0005541888740702369\n",
      "-0.00043484896482702496\n",
      "-0.0003220380569637122\n",
      "-0.00021909646561952918\n",
      "-0.00012985950370846265\n",
      "-5.754524250499636e-05\n",
      "-2.833100501663209e-06\n",
      "3.659643728846649e-05\n",
      "6.507178564153582e-05\n",
      "8.652086323986303e-05\n",
      "-- DONE --\n"
     ]
    }
   ],
   "source": [
    "print(\"Starting..\")\n",
    "for i in range(8000):\n",
    "    mod = i % len(training)\n",
    "    in_out = training[mod]\n",
    "    result = fnn.fire(group_training)\n",
    "    i_error = fnn.backPropagation(group_target)\n",
    "    \n",
    "    if i % 100 == 0:\n",
    "        print(i_error.mean())\n",
    "    \n",
    "print(\"-- DONE --\")"
   ]
  },
  {
   "cell_type": "code",
   "execution_count": 40,
   "metadata": {},
   "outputs": [
    {
     "data": {
      "text/plain": [
       "499"
      ]
     },
     "execution_count": 40,
     "metadata": {},
     "output_type": "execute_result"
    }
   ],
   "source": [
    "testing = []\n",
    "\n",
    "trainingPos = df[pd.notnull(df['Subject'])]\n",
    "trainingPos = trainingPos.sample(250)\n",
    "trainingPos = trainingPos['Subject']\n",
    "\n",
    "trainingPosSplit = trainingPos.str.split(' ')\n",
    "\n",
    "for index, subject in trainingPosSplit.iteritems():\n",
    "    posBagOfWords = {}\n",
    "    posBagOfWords = addToBagOfWords(posBagOfWords, subject)\n",
    "    \n",
    "    listOfIn = []\n",
    "    for key in posBagOfWords:\n",
    "        listOfIn.append(key)\n",
    "    \n",
    "    inputBag = dictionaryList['Word'].isin(listOfIn).values.tolist()\n",
    "    \n",
    "    testing.append([np.array(inputBag), np.array([0])])\n",
    "    \n",
    "trainingNeg = spamSubjects.sample(len(spamSubjects))\n",
    "trainingNeg = trainingNeg['Subject']\n",
    "\n",
    "trainingNegSplit = trainingNeg.str.split(' ')\n",
    "\n",
    "for index, subject in trainingNegSplit.iteritems():\n",
    "    negBagOfWords = {}\n",
    "    negBagOfWords = addToBagOfWords(negBagOfWords, subject)\n",
    "    \n",
    "    listOfIn = []\n",
    "    for key in negBagOfWords:\n",
    "        listOfIn.append(key)\n",
    "    \n",
    "    inputBag = dictionaryList['Word'].isin(listOfIn).values.tolist()\n",
    "    \n",
    "    testing.append([np.array(inputBag), np.array([1])])\n",
    "\n",
    "testing = np.array(testing)\n",
    "np.random.shuffle(testing)\n",
    "\n",
    "len(testing)"
   ]
  },
  {
   "cell_type": "code",
   "execution_count": 41,
   "metadata": {},
   "outputs": [
    {
     "name": "stdout",
     "output_type": "stream",
     "text": [
      "classification accuracy:  0.8396793587174348\n",
      "Non spam classification accuracy:  0.78\n",
      "Spam classification accuracy:  0.8995983935742972\n"
     ]
    }
   ],
   "source": [
    "correct = 0\n",
    "spamCorrect = 0\n",
    "nonSpamCorrect = 0\n",
    "for i in range(len(testing)):\n",
    "    in_out = testing[i]\n",
    "    result = fnn.fire(np.array([in_out[0]]))\n",
    "    \n",
    "    target = in_out[1][0]\n",
    "    result = np.round(result[0][0])\n",
    "\n",
    "    if result == target:\n",
    "        correct += 1\n",
    "        if target == 1:\n",
    "            spamCorrect += 1\n",
    "        else:\n",
    "            nonSpamCorrect += 1\n",
    "        \n",
    "        \n",
    "print(\"classification accuracy: \", correct / len(testing))\n",
    "print(\"Non spam classification accuracy: \", nonSpamCorrect / 250)\n",
    "print(\"Spam classification accuracy: \", spamCorrect / len(spamSubjects))"
   ]
  },
  {
   "cell_type": "code",
   "execution_count": null,
   "metadata": {},
   "outputs": [],
   "source": []
  }
 ],
 "metadata": {
  "kernelspec": {
   "display_name": "Python 3",
   "language": "python",
   "name": "python3"
  },
  "language_info": {
   "codemirror_mode": {
    "name": "ipython",
    "version": 3
   },
   "file_extension": ".py",
   "mimetype": "text/x-python",
   "name": "python",
   "nbconvert_exporter": "python",
   "pygments_lexer": "ipython3",
   "version": "3.5.2"
  }
 },
 "nbformat": 4,
 "nbformat_minor": 1
}
