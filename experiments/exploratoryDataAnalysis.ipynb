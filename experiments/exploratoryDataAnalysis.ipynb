{
 "cells": [
  {
   "cell_type": "markdown",
   "metadata": {},
   "source": [
    "Only reading in one email for now"
   ]
  },
  {
   "cell_type": "code",
   "execution_count": 11,
   "metadata": {},
   "outputs": [],
   "source": [
    "emailDir = \"../maildir/maildir\"\n",
    "enroncsv = \"../experiments/enron.csv\""
   ]
  },
  {
   "cell_type": "markdown",
   "metadata": {},
   "source": [
    "Using the built in python email parser to get all the info required"
   ]
  },
  {
   "cell_type": "code",
   "execution_count": 15,
   "metadata": {},
   "outputs": [
    {
     "data": {
      "text/plain": [
       "['Filename',\n",
       " 'Directory',\n",
       " 'Message-ID',\n",
       " 'Date',\n",
       " 'From',\n",
       " 'To',\n",
       " 'Subject',\n",
       " 'Cc',\n",
       " 'Mime-Version',\n",
       " 'Content-Type',\n",
       " 'Content-Transfer-Encoding',\n",
       " 'Bcc',\n",
       " 'X-From',\n",
       " 'X-To',\n",
       " 'X-cc',\n",
       " 'X-bcc',\n",
       " 'X-Folder',\n",
       " 'X-Origin',\n",
       " 'X-FileName']"
      ]
     },
     "execution_count": 15,
     "metadata": {},
     "output_type": "execute_result"
    }
   ],
   "source": [
    "columns = ['Filename',\n",
    "            'Directory',\n",
    "            'Message-ID',\n",
    "            'Date',\n",
    "            'From',\n",
    "            'To',\n",
    "            'Subject',\n",
    "            'Cc',\n",
    "            'Time',\n",
    "            'Attendees',\n",
    "            'Re',\n",
    "            'Mime-Version',\n",
    "            'Content-Type',\n",
    "            'Content-Transfer-Encoding',\n",
    "            'Bcc',\n",
    "            'X-From',\n",
    "            'X-To',\n",
    "            'X-cc',\n",
    "            'X-bcc',\n",
    "            'X-Folder',\n",
    "            'X-Origin',\n",
    "            'X-FileName']\n",
    "columns"
   ]
  },
  {
   "cell_type": "code",
   "execution_count": null,
   "metadata": {
    "scrolled": true
   },
   "outputs": [
    {
     "name": "stdout",
     "output_type": "stream",
     "text": [
      "1000\n",
      "2000\n"
     ]
    }
   ],
   "source": [
    "import os\n",
    "import csv\n",
    "\n",
    "from email.parser import BytesParser, Parser\n",
    "from email.policy import default\n",
    "\n",
    "i = 0\n",
    "with open(enroncsv, 'w') as csvfile:\n",
    "    writer = csv.DictWriter(csvfile, delimiter='|', quotechar='|', fieldnames=columns)\n",
    "    for root, dirs, files in os.walk(emailDir):\n",
    "        for name in files:\n",
    "            i += 1\n",
    "            if i % 1000 == 0:\n",
    "                print(i)\n",
    "            with open(os.path.join(root, name), 'rb') as fp:\n",
    "                email = BytesParser(policy=default).parse(fp)\n",
    "                email['Filename'] = name\n",
    "                try:\n",
    "                    writer.writerow(email)\n",
    "                except Exception as e:\n",
    "                    print(\"Error: Couldn't write email\")\n",
    "                    print(e)\n",
    "                    "
   ]
  },
  {
   "cell_type": "markdown",
   "metadata": {},
   "source": [
    "Using the `|` seperator here so that we don't have issues with `,` in the data. Don't 100% there are no pipes but it has worked so far."
   ]
  },
  {
   "cell_type": "code",
   "execution_count": null,
   "metadata": {
    "scrolled": false
   },
   "outputs": [],
   "source": [
    "df = pd.read_csv(enroncsv, names=columns, sep='|')\n",
    "\n",
    "result = df.loc[df['To'] == 'pallen@enron.com']\n",
    "result"
   ]
  },
  {
   "cell_type": "code",
   "execution_count": 62,
   "metadata": {},
   "outputs": [],
   "source": []
  },
  {
   "cell_type": "code",
   "execution_count": null,
   "metadata": {},
   "outputs": [],
   "source": []
  }
 ],
 "metadata": {
  "kernelspec": {
   "display_name": "Python 3",
   "language": "python",
   "name": "python3"
  },
  "language_info": {
   "codemirror_mode": {
    "name": "ipython",
    "version": 3
   },
   "file_extension": ".py",
   "mimetype": "text/x-python",
   "name": "python",
   "nbconvert_exporter": "python",
   "pygments_lexer": "ipython3",
   "version": "3.5.2"
  }
 },
 "nbformat": 4,
 "nbformat_minor": 1
}
